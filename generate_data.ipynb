{
 "cells": [
  {
   "cell_type": "code",
   "execution_count": null,
   "metadata": {},
   "outputs": [],
   "source": [
    "from EegHelper.DatasetGenerator import GeneratedSample\n",
    "import matplotlib.pyplot as plt\n",
    "from EegHelper.EegData import EegDataPoint, data_points_to_file\n",
    "\n",
    "%load_ext autoreload\n",
    "%autoreload 2\n",
    "%matplotlib inline"
   ]
  },
  {
   "attachments": {},
   "cell_type": "markdown",
   "metadata": {},
   "source": [
    "This notebook was used to generate data to test the corectness of the pipeline."
   ]
  },
  {
   "cell_type": "code",
   "execution_count": null,
   "metadata": {},
   "outputs": [],
   "source": [
    "#This is an example of the generated data.\n",
    "generator = GeneratedSample(length=256, freq=15)\n",
    "sample, x = generator.get_sample(sigma_min=0.2, sigma_max=1)\n",
    "\n",
    "test = EegDataPoint(sample, '1', ['T7', 'P7', 'P8', 'T8'])\n",
    "test.mne_object.plot(scalings='auto');"
   ]
  },
  {
   "cell_type": "code",
   "execution_count": null,
   "metadata": {},
   "outputs": [],
   "source": [
    "\"\"\"\n",
    "For each label 1-9 inclusive, generate a unuquer sample.\n",
    "\"\"\"\n",
    "for i in range(0,10):\n",
    "    generator = GeneratedSample(length=256, freq=5*(i+1))\n",
    "    for w in range(5000):\n",
    "        sample, x = generator.get_sample(sigma_min=0.2, sigma_max=1)\n",
    "        test = EegDataPoint(sample, '1', ['T7', 'P7', 'P8', 'T8'])\n",
    "        data_points_to_file([test], full_path = f'./GeneratedData/{i}_{w}.csv')"
   ]
  }
 ],
 "metadata": {
  "kernelspec": {
   "display_name": "base",
   "language": "python",
   "name": "python3"
  },
  "language_info": {
   "codemirror_mode": {
    "name": "ipython",
    "version": 3
   },
   "file_extension": ".py",
   "mimetype": "text/x-python",
   "name": "python",
   "nbconvert_exporter": "python",
   "pygments_lexer": "ipython3",
   "version": "3.10.10"
  },
  "orig_nbformat": 4
 },
 "nbformat": 4,
 "nbformat_minor": 2
}
