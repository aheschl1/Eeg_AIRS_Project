{
 "cells": [
  {
   "cell_type": "code",
   "execution_count": 1,
   "metadata": {},
   "outputs": [],
   "source": [
    "import pandas as pd\n",
    "import numpy as np\n",
    "import mne\n",
    "import glob\n",
    "from tqdm import tqdm\n",
    "\n",
    "from EegHelper.EegData import EegDataPoint, EegDataset, files_to_datapoints\n",
    "from EegHelper.DataIO import DataBuilder, split_main_data\n",
    "\n",
    "%matplotlib inline\n",
    "\n",
    "#Following two are so that external files are auto loaded after edit\n",
    "%load_ext autoreload\n",
    "%autoreload 2\n",
    "#mne outputs so much stuff, so just set log level\n",
    "mne.set_log_level('error')"
   ]
  },
  {
   "cell_type": "code",
   "execution_count": 2,
   "metadata": {},
   "outputs": [
    {
     "name": "stdout",
     "output_type": "stream",
     "text": [
      "Loading epoc data...\n"
     ]
    },
    {
     "name": "stderr",
     "output_type": "stream",
     "text": [
      "100%|██████████| 65034/65034 [01:44<00:00, 624.68it/s]\n"
     ]
    }
   ],
   "source": [
    "files = glob.glob('./MindBigData-EP-v1.0/*.csv')\n",
    "all_points, all_labels = files_to_datapoints(epoc_files = files, first_n=len(files)) #first_n = 500 by default. Apply first_n = len(files) to load all"
   ]
  },
  {
   "cell_type": "code",
   "execution_count": 3,
   "metadata": {},
   "outputs": [
    {
     "name": "stdout",
     "output_type": "stream",
     "text": [
      "Num points EPOC: 64629\n",
      "Num labels EPOC: 11\n",
      "Labels EPOC: ['6', '3', '2', '8', '-1', '9', '1', '4', '5', '0', '7']\n",
      "------------------------------------\n",
      "Data shape EPOC (256, 14)\n"
     ]
    }
   ],
   "source": [
    "print(\"Num points EPOC:\", len(all_points))\n",
    "print(\"Num labels EPOC:\", len(all_labels))\n",
    "print(\"Labels EPOC:\", all_labels)\n",
    "print(\"------------------------------------\")\n",
    "print(\"Data shape EPOC\", all_points[0].raw_data.shape)"
   ]
  },
  {
   "cell_type": "code",
   "execution_count": 4,
   "metadata": {},
   "outputs": [
    {
     "name": "stderr",
     "output_type": "stream",
     "text": [
      "100%|██████████| 64629/64629 [03:47<00:00, 284.71it/s]\n"
     ]
    }
   ],
   "source": [
    "for point in tqdm(all_points):\n",
    "    point.full_clean(channels=['T7', 'P7', 'P8', 'T8'])"
   ]
  },
  {
   "cell_type": "code",
   "execution_count": 5,
   "metadata": {},
   "outputs": [],
   "source": [
    "from sklearn.model_selection import train_test_split\n",
    "from torch.utils.data import DataLoader\n",
    "import torch\n",
    "from torch.optim import Adam, SGD\n",
    "import torch.nn as nn\n",
    "from torch.nn import MSELoss, CrossEntropyLoss\n",
    "from models.EegClassifierA import Classifier\n",
    "from torchvision import transforms\n",
    "from tqdm import tqdm\n",
    "import matplotlib.pyplot as plt\n",
    "\n",
    "from EegHelper.EegAugmentation import NormalizationHelper, EegGaussianNoise, EegRandomScaling\n",
    "\n",
    "%matplotlib inline"
   ]
  },
  {
   "attachments": {},
   "cell_type": "markdown",
   "metadata": {},
   "source": [
    "https://github.com/vlawhern/arl-eegmodels\n",
    "\n",
    "https://github.com/SuperBruceJia/EEG-DL\n",
    "\n",
    "https://github.com/SuperBruceJia/EEG-Motor-Imagery-Classification-CNNs-TensorFlow"
   ]
  },
  {
   "cell_type": "code",
   "execution_count": null,
   "metadata": {},
   "outputs": [],
   "source": [
    "train_points, test_points = train_test_split(all_points, train_size=0.8, shuffle=True)\n",
    "\n",
    "helper = NormalizationHelper(train_points)           #Provide the data which you want to fit with\n",
    "scaler = helper.get_standard_scaler()              #Get the fit scaler\n",
    "\n",
    "train_points = NormalizationHelper.fit_points(scaler, train_points) #Fit points after providing scaler\n",
    "test_points = NormalizationHelper.fit_points(scaler, test_points) #Fit points after providing scaler"
   ]
  },
  {
   "cell_type": "code",
   "execution_count": 18,
   "metadata": {},
   "outputs": [],
   "source": [
    "transforms = nn.Sequential(\n",
    "    EegGaussianNoise(mu = 0, sigma = 1),\n",
    "    EegRandomScaling(mu=1, sigma=0.1)\n",
    ")\n",
    "\n",
    "batch_size = 32\n",
    "num_workers = 4\n",
    "\n",
    "dataset_train = EegDataset(data_points=train_points, labels=all_labels, transforms = transforms)\n",
    "dataset_test = EegDataset(data_points=test_points, labels=all_labels)\n",
    "\n",
    "train_dataloader = DataLoader(dataset_train, batch_size=batch_size, num_workers=num_workers, shuffle=True)\n",
    "test_dataloader = DataLoader(dataset_test, batch_size=batch_size, num_workers=num_workers)"
   ]
  },
  {
   "cell_type": "code",
   "execution_count": 23,
   "metadata": {},
   "outputs": [
    {
     "name": "stdout",
     "output_type": "stream",
     "text": [
      "cuda\n",
      "Epoch 1/100\n"
     ]
    },
    {
     "name": "stderr",
     "output_type": "stream",
     "text": [
      "100%|██████████| 1616/1616 [00:06<00:00, 243.65it/s]"
     ]
    },
    {
     "name": "stdout",
     "output_type": "stream",
     "text": [
      "Epoch train loss: 76.47929382324219\n",
      "Epoch accuracy: 0.10146581064356436\n",
      "------------------Validating--------------------\n"
     ]
    },
    {
     "name": "stderr",
     "output_type": "stream",
     "text": [
      "\n"
     ]
    },
    {
     "name": "stdout",
     "output_type": "stream",
     "text": [
      "Validation loss: 76.47708129882812\n",
      "Validation accuracy: 0.09545173267326733\n",
      "Epoch 2/100\n"
     ]
    },
    {
     "name": "stderr",
     "output_type": "stream",
     "text": [
      "100%|██████████| 1616/1616 [00:06<00:00, 233.64it/s]"
     ]
    },
    {
     "name": "stdout",
     "output_type": "stream",
     "text": [
      "Epoch train loss: 76.45520782470703\n",
      "Epoch accuracy: 0.10040222772277228\n",
      "------------------Validating--------------------\n"
     ]
    },
    {
     "name": "stderr",
     "output_type": "stream",
     "text": [
      "\n"
     ]
    },
    {
     "name": "stdout",
     "output_type": "stream",
     "text": [
      "Validation loss: 76.46925354003906\n",
      "Validation accuracy: 0.10403774752475248\n",
      "Epoch 3/100\n"
     ]
    },
    {
     "name": "stderr",
     "output_type": "stream",
     "text": [
      "100%|██████████| 1616/1616 [00:06<00:00, 233.94it/s]\n"
     ]
    },
    {
     "name": "stdout",
     "output_type": "stream",
     "text": [
      "Epoch train loss: 76.44657135009766\n",
      "Epoch accuracy: 0.10394105816831684\n",
      "------------------Validating--------------------\n",
      "Validation loss: 76.44933319091797\n",
      "Validation accuracy: 0.10032487623762376\n",
      "Epoch 4/100\n"
     ]
    },
    {
     "name": "stderr",
     "output_type": "stream",
     "text": [
      "100%|██████████| 1616/1616 [00:06<00:00, 232.83it/s]"
     ]
    },
    {
     "name": "stdout",
     "output_type": "stream",
     "text": [
      "Epoch train loss: 76.43580627441406\n",
      "Epoch accuracy: 0.10481126237623763\n",
      "------------------Validating--------------------\n"
     ]
    },
    {
     "name": "stderr",
     "output_type": "stream",
     "text": [
      "\n"
     ]
    },
    {
     "name": "stdout",
     "output_type": "stream",
     "text": [
      "Validation loss: 76.4587173461914\n",
      "Validation accuracy: 0.09754022277227722\n",
      "Epoch 5/100\n"
     ]
    },
    {
     "name": "stderr",
     "output_type": "stream",
     "text": [
      "100%|██████████| 1616/1616 [00:07<00:00, 226.55it/s]"
     ]
    },
    {
     "name": "stdout",
     "output_type": "stream",
     "text": [
      "Epoch train loss: 76.42374420166016\n",
      "Epoch accuracy: 0.10564279084158416\n",
      "------------------Validating--------------------\n"
     ]
    },
    {
     "name": "stderr",
     "output_type": "stream",
     "text": [
      "\n"
     ]
    },
    {
     "name": "stdout",
     "output_type": "stream",
     "text": [
      "Validation loss: 76.4296875\n",
      "Validation accuracy: 0.10086633663366337\n",
      "Epoch 6/100\n"
     ]
    },
    {
     "name": "stderr",
     "output_type": "stream",
     "text": [
      "100%|██████████| 1616/1616 [00:07<00:00, 227.54it/s]"
     ]
    },
    {
     "name": "stdout",
     "output_type": "stream",
     "text": [
      "Epoch train loss: 76.40459442138672\n",
      "Epoch accuracy: 0.10674504950495049\n",
      "------------------Validating--------------------\n"
     ]
    },
    {
     "name": "stderr",
     "output_type": "stream",
     "text": [
      "\n"
     ]
    },
    {
     "name": "stdout",
     "output_type": "stream",
     "text": [
      "Validation loss: 76.40625762939453\n",
      "Validation accuracy: 0.10968440594059406\n",
      "Epoch 7/100\n"
     ]
    },
    {
     "name": "stderr",
     "output_type": "stream",
     "text": [
      "100%|██████████| 1616/1616 [00:07<00:00, 228.75it/s]"
     ]
    },
    {
     "name": "stdout",
     "output_type": "stream",
     "text": [
      "Epoch train loss: 76.37590789794922\n",
      "Epoch accuracy: 0.10929764851485149\n",
      "------------------Validating--------------------\n"
     ]
    },
    {
     "name": "stderr",
     "output_type": "stream",
     "text": [
      "\n"
     ]
    },
    {
     "name": "stdout",
     "output_type": "stream",
     "text": [
      "Validation loss: 76.39418029785156\n",
      "Validation accuracy: 0.10751856435643564\n",
      "Epoch 8/100\n"
     ]
    },
    {
     "name": "stderr",
     "output_type": "stream",
     "text": [
      "100%|██████████| 1616/1616 [00:07<00:00, 227.92it/s]"
     ]
    },
    {
     "name": "stdout",
     "output_type": "stream",
     "text": [
      "Epoch train loss: 76.36583709716797\n",
      "Epoch accuracy: 0.10976175742574257\n",
      "------------------Validating--------------------\n"
     ]
    },
    {
     "name": "stderr",
     "output_type": "stream",
     "text": [
      "\n"
     ]
    },
    {
     "name": "stdout",
     "output_type": "stream",
     "text": [
      "Validation loss: 76.38593292236328\n",
      "Validation accuracy: 0.11130878712871287\n",
      "Epoch 9/100\n"
     ]
    },
    {
     "name": "stderr",
     "output_type": "stream",
     "text": [
      "100%|██████████| 1616/1616 [00:06<00:00, 232.66it/s]"
     ]
    },
    {
     "name": "stdout",
     "output_type": "stream",
     "text": [
      "Epoch train loss: 76.36270904541016\n",
      "Epoch accuracy: 0.1099164603960396\n",
      "------------------Validating--------------------\n"
     ]
    },
    {
     "name": "stderr",
     "output_type": "stream",
     "text": [
      "\n"
     ]
    },
    {
     "name": "stdout",
     "output_type": "stream",
     "text": [
      "Validation loss: 76.39505767822266\n",
      "Validation accuracy: 0.10171720297029703\n",
      "Epoch 10/100\n"
     ]
    },
    {
     "name": "stderr",
     "output_type": "stream",
     "text": [
      "100%|██████████| 1616/1616 [00:06<00:00, 231.71it/s]"
     ]
    },
    {
     "name": "stdout",
     "output_type": "stream",
     "text": [
      "Epoch train loss: 76.35513305664062\n",
      "Epoch accuracy: 0.11157951732673267\n",
      "------------------Validating--------------------\n"
     ]
    },
    {
     "name": "stderr",
     "output_type": "stream",
     "text": [
      "\n"
     ]
    },
    {
     "name": "stdout",
     "output_type": "stream",
     "text": [
      "Validation loss: 76.38512420654297\n",
      "Validation accuracy: 0.10929764851485149\n",
      "Epoch 11/100\n"
     ]
    },
    {
     "name": "stderr",
     "output_type": "stream",
     "text": [
      "100%|██████████| 1616/1616 [00:07<00:00, 230.20it/s]"
     ]
    },
    {
     "name": "stdout",
     "output_type": "stream",
     "text": [
      "Epoch train loss: 76.32331085205078\n",
      "Epoch accuracy: 0.11434483292079207\n",
      "------------------Validating--------------------\n"
     ]
    },
    {
     "name": "stderr",
     "output_type": "stream",
     "text": [
      "\n"
     ]
    },
    {
     "name": "stdout",
     "output_type": "stream",
     "text": [
      "Validation loss: 76.38058471679688\n",
      "Validation accuracy: 0.109375\n",
      "Epoch 12/100\n"
     ]
    },
    {
     "name": "stderr",
     "output_type": "stream",
     "text": [
      "100%|██████████| 1616/1616 [00:07<00:00, 230.00it/s]"
     ]
    },
    {
     "name": "stdout",
     "output_type": "stream",
     "text": [
      "Epoch train loss: 76.3161392211914\n",
      "Epoch accuracy: 0.11440284653465346\n",
      "------------------Validating--------------------\n"
     ]
    },
    {
     "name": "stderr",
     "output_type": "stream",
     "text": [
      "\n"
     ]
    },
    {
     "name": "stdout",
     "output_type": "stream",
     "text": [
      "Validation loss: 76.36410522460938\n",
      "Validation accuracy: 0.11540841584158416\n",
      "Epoch 13/100\n"
     ]
    },
    {
     "name": "stderr",
     "output_type": "stream",
     "text": [
      "100%|██████████| 1616/1616 [00:07<00:00, 229.88it/s]"
     ]
    },
    {
     "name": "stdout",
     "output_type": "stream",
     "text": [
      "Epoch train loss: 76.30207061767578\n",
      "Epoch accuracy: 0.1160465655940594\n",
      "------------------Validating--------------------\n"
     ]
    },
    {
     "name": "stderr",
     "output_type": "stream",
     "text": [
      "\n"
     ]
    },
    {
     "name": "stdout",
     "output_type": "stream",
     "text": [
      "Validation loss: 76.35575103759766\n",
      "Validation accuracy: 0.11424814356435643\n",
      "Epoch 14/100\n"
     ]
    },
    {
     "name": "stderr",
     "output_type": "stream",
     "text": [
      "100%|██████████| 1616/1616 [00:07<00:00, 228.79it/s]"
     ]
    },
    {
     "name": "stdout",
     "output_type": "stream",
     "text": [
      "Epoch train loss: 76.29196166992188\n",
      "Epoch accuracy: 0.11699412128712872\n",
      "------------------Validating--------------------\n"
     ]
    },
    {
     "name": "stderr",
     "output_type": "stream",
     "text": [
      "\n"
     ]
    },
    {
     "name": "stdout",
     "output_type": "stream",
     "text": [
      "Validation loss: 76.36653137207031\n",
      "Validation accuracy: 0.1109220297029703\n",
      "Epoch 15/100\n"
     ]
    },
    {
     "name": "stderr",
     "output_type": "stream",
     "text": [
      "100%|██████████| 1616/1616 [00:07<00:00, 226.75it/s]"
     ]
    },
    {
     "name": "stdout",
     "output_type": "stream",
     "text": [
      "Epoch train loss: 76.29273223876953\n",
      "Epoch accuracy: 0.11558245668316831\n",
      "------------------Validating--------------------\n"
     ]
    },
    {
     "name": "stderr",
     "output_type": "stream",
     "text": [
      "\n"
     ]
    },
    {
     "name": "stdout",
     "output_type": "stream",
     "text": [
      "Validation loss: 76.36030578613281\n",
      "Validation accuracy: 0.1109993811881188\n",
      "Epoch 16/100\n"
     ]
    },
    {
     "name": "stderr",
     "output_type": "stream",
     "text": [
      "100%|██████████| 1616/1616 [00:07<00:00, 224.07it/s]"
     ]
    },
    {
     "name": "stdout",
     "output_type": "stream",
     "text": [
      "Epoch train loss: 76.27265167236328\n",
      "Epoch accuracy: 0.11544709158415842\n",
      "------------------Validating--------------------\n"
     ]
    },
    {
     "name": "stderr",
     "output_type": "stream",
     "text": [
      "\n"
     ]
    },
    {
     "name": "stdout",
     "output_type": "stream",
     "text": [
      "Validation loss: 76.3564453125\n",
      "Validation accuracy: 0.11602722772277228\n",
      "Epoch 17/100\n"
     ]
    },
    {
     "name": "stderr",
     "output_type": "stream",
     "text": [
      "100%|██████████| 1616/1616 [00:06<00:00, 234.56it/s]"
     ]
    },
    {
     "name": "stdout",
     "output_type": "stream",
     "text": [
      "Epoch train loss: 76.26449584960938\n",
      "Epoch accuracy: 0.11836711014851485\n",
      "------------------Validating--------------------\n"
     ]
    },
    {
     "name": "stderr",
     "output_type": "stream",
     "text": [
      "\n"
     ]
    },
    {
     "name": "stdout",
     "output_type": "stream",
     "text": [
      "Validation loss: 76.34281921386719\n",
      "Validation accuracy: 0.11440284653465346\n",
      "Epoch 18/100\n"
     ]
    },
    {
     "name": "stderr",
     "output_type": "stream",
     "text": [
      "100%|██████████| 1616/1616 [00:07<00:00, 230.54it/s]"
     ]
    },
    {
     "name": "stdout",
     "output_type": "stream",
     "text": [
      "Epoch train loss: 76.26448059082031\n",
      "Epoch accuracy: 0.11776763613861387\n",
      "------------------Validating--------------------\n"
     ]
    },
    {
     "name": "stderr",
     "output_type": "stream",
     "text": [
      "\n"
     ]
    },
    {
     "name": "stdout",
     "output_type": "stream",
     "text": [
      "Validation loss: 76.34764862060547\n",
      "Validation accuracy: 0.11370668316831684\n",
      "Epoch 19/100\n"
     ]
    },
    {
     "name": "stderr",
     "output_type": "stream",
     "text": [
      "100%|██████████| 1616/1616 [00:07<00:00, 226.78it/s]\n"
     ]
    },
    {
     "name": "stdout",
     "output_type": "stream",
     "text": [
      "Epoch train loss: 76.21671295166016\n",
      "Epoch accuracy: 0.12107441212871287\n",
      "------------------Validating--------------------\n",
      "Validation loss: 76.32130432128906\n",
      "Validation accuracy: 0.11888923267326733\n",
      "Epoch 20/100\n"
     ]
    },
    {
     "name": "stderr",
     "output_type": "stream",
     "text": [
      "100%|██████████| 1616/1616 [00:06<00:00, 232.08it/s]"
     ]
    },
    {
     "name": "stdout",
     "output_type": "stream",
     "text": [
      "Epoch train loss: 76.21517944335938\n",
      "Epoch accuracy: 0.12227336014851485\n",
      "------------------Validating--------------------\n"
     ]
    },
    {
     "name": "stderr",
     "output_type": "stream",
     "text": [
      "\n"
     ]
    },
    {
     "name": "stdout",
     "output_type": "stream",
     "text": [
      "Validation loss: 76.32640075683594\n",
      "Validation accuracy: 0.11950804455445545\n",
      "Epoch 21/100\n"
     ]
    },
    {
     "name": "stderr",
     "output_type": "stream",
     "text": [
      "100%|██████████| 1616/1616 [00:07<00:00, 226.93it/s]"
     ]
    },
    {
     "name": "stdout",
     "output_type": "stream",
     "text": [
      "Epoch train loss: 76.19152069091797\n",
      "Epoch accuracy: 0.12364634900990099\n",
      "------------------Validating--------------------\n"
     ]
    },
    {
     "name": "stderr",
     "output_type": "stream",
     "text": [
      "\n"
     ]
    },
    {
     "name": "stdout",
     "output_type": "stream",
     "text": [
      "Validation loss: 76.34148406982422\n",
      "Validation accuracy: 0.11347462871287128\n",
      "Epoch 22/100\n"
     ]
    },
    {
     "name": "stderr",
     "output_type": "stream",
     "text": [
      "100%|██████████| 1616/1616 [00:06<00:00, 232.05it/s]"
     ]
    },
    {
     "name": "stdout",
     "output_type": "stream",
     "text": [
      "Epoch train loss: 76.20040893554688\n",
      "Epoch accuracy: 0.12237004950495049\n",
      "------------------Validating--------------------\n"
     ]
    },
    {
     "name": "stderr",
     "output_type": "stream",
     "text": [
      "\n"
     ]
    },
    {
     "name": "stdout",
     "output_type": "stream",
     "text": [
      "Validation loss: 76.3126220703125\n",
      "Validation accuracy: 0.11904393564356436\n",
      "Epoch 23/100\n"
     ]
    },
    {
     "name": "stderr",
     "output_type": "stream",
     "text": [
      "100%|██████████| 1616/1616 [00:07<00:00, 229.46it/s]"
     ]
    },
    {
     "name": "stdout",
     "output_type": "stream",
     "text": [
      "Epoch train loss: 76.1913833618164\n",
      "Epoch accuracy: 0.1237817141089109\n",
      "------------------Validating--------------------\n"
     ]
    },
    {
     "name": "stderr",
     "output_type": "stream",
     "text": [
      "\n"
     ]
    },
    {
     "name": "stdout",
     "output_type": "stream",
     "text": [
      "Validation loss: 76.33979797363281\n",
      "Validation accuracy: 0.11587252475247525\n",
      "Epoch 24/100\n"
     ]
    },
    {
     "name": "stderr",
     "output_type": "stream",
     "text": [
      "100%|██████████| 1616/1616 [00:06<00:00, 232.56it/s]\n"
     ]
    },
    {
     "name": "stdout",
     "output_type": "stream",
     "text": [
      "Epoch train loss: 76.17557525634766\n",
      "Epoch accuracy: 0.1255414603960396\n",
      "------------------Validating--------------------\n",
      "Validation loss: 76.31517028808594\n",
      "Validation accuracy: 0.12128712871287128\n",
      "Epoch 25/100\n"
     ]
    },
    {
     "name": "stderr",
     "output_type": "stream",
     "text": [
      "100%|██████████| 1616/1616 [00:07<00:00, 222.81it/s]"
     ]
    },
    {
     "name": "stdout",
     "output_type": "stream",
     "text": [
      "Epoch train loss: 76.16915130615234\n",
      "Epoch accuracy: 0.12438118811881188\n",
      "------------------Validating--------------------\n"
     ]
    },
    {
     "name": "stderr",
     "output_type": "stream",
     "text": [
      "\n"
     ]
    },
    {
     "name": "stdout",
     "output_type": "stream",
     "text": [
      "Validation loss: 76.31539154052734\n",
      "Validation accuracy: 0.11904393564356436\n",
      "Epoch 26/100\n"
     ]
    },
    {
     "name": "stderr",
     "output_type": "stream",
     "text": [
      "100%|██████████| 1616/1616 [00:06<00:00, 234.63it/s]"
     ]
    },
    {
     "name": "stdout",
     "output_type": "stream",
     "text": [
      "Epoch train loss: 76.1558837890625\n",
      "Epoch accuracy: 0.12356899752475248\n",
      "------------------Validating--------------------\n"
     ]
    },
    {
     "name": "stderr",
     "output_type": "stream",
     "text": [
      "\n"
     ]
    },
    {
     "name": "stdout",
     "output_type": "stream",
     "text": [
      "Validation loss: 76.29236602783203\n",
      "Validation accuracy: 0.1218285891089109\n",
      "Epoch 27/100\n"
     ]
    },
    {
     "name": "stderr",
     "output_type": "stream",
     "text": [
      "100%|██████████| 1616/1616 [00:06<00:00, 231.33it/s]"
     ]
    },
    {
     "name": "stdout",
     "output_type": "stream",
     "text": [
      "Epoch train loss: 76.14557647705078\n",
      "Epoch accuracy: 0.12633431311881188\n",
      "------------------Validating--------------------\n"
     ]
    },
    {
     "name": "stderr",
     "output_type": "stream",
     "text": [
      "\n"
     ]
    },
    {
     "name": "stdout",
     "output_type": "stream",
     "text": [
      "Validation loss: 76.3170394897461\n",
      "Validation accuracy: 0.1229115099009901\n",
      "Epoch 28/100\n"
     ]
    },
    {
     "name": "stderr",
     "output_type": "stream",
     "text": [
      "100%|██████████| 1616/1616 [00:07<00:00, 228.72it/s]"
     ]
    },
    {
     "name": "stdout",
     "output_type": "stream",
     "text": [
      "Epoch train loss: 76.14041900634766\n",
      "Epoch accuracy: 0.1252707301980198\n",
      "------------------Validating--------------------\n"
     ]
    },
    {
     "name": "stderr",
     "output_type": "stream",
     "text": [
      "\n"
     ]
    },
    {
     "name": "stdout",
     "output_type": "stream",
     "text": [
      "Validation loss: 76.30061340332031\n",
      "Validation accuracy: 0.12113242574257425\n",
      "Epoch 29/100\n"
     ]
    },
    {
     "name": "stderr",
     "output_type": "stream",
     "text": [
      "100%|██████████| 1616/1616 [00:07<00:00, 229.97it/s]"
     ]
    },
    {
     "name": "stdout",
     "output_type": "stream",
     "text": [
      "Epoch train loss: 76.13231658935547\n",
      "Epoch accuracy: 0.12598623143564355\n",
      "------------------Validating--------------------\n"
     ]
    },
    {
     "name": "stderr",
     "output_type": "stream",
     "text": [
      "\n"
     ]
    },
    {
     "name": "stdout",
     "output_type": "stream",
     "text": [
      "Validation loss: 76.32042694091797\n",
      "Validation accuracy: 0.12074566831683169\n",
      "Epoch 30/100\n"
     ]
    },
    {
     "name": "stderr",
     "output_type": "stream",
     "text": [
      "100%|██████████| 1616/1616 [00:06<00:00, 232.83it/s]\n"
     ]
    },
    {
     "name": "stdout",
     "output_type": "stream",
     "text": [
      "Epoch train loss: 76.11544799804688\n",
      "Epoch accuracy: 0.12699180074257427\n",
      "------------------Validating--------------------\n",
      "Validation loss: 76.34402465820312\n",
      "Validation accuracy: 0.11602722772277228\n",
      "Epoch 31/100\n"
     ]
    },
    {
     "name": "stderr",
     "output_type": "stream",
     "text": [
      "100%|██████████| 1616/1616 [00:06<00:00, 233.73it/s]"
     ]
    },
    {
     "name": "stdout",
     "output_type": "stream",
     "text": [
      "Epoch train loss: 76.1083755493164\n",
      "Epoch accuracy: 0.12840346534653466\n",
      "------------------Validating--------------------\n"
     ]
    },
    {
     "name": "stderr",
     "output_type": "stream",
     "text": [
      "\n"
     ]
    },
    {
     "name": "stdout",
     "output_type": "stream",
     "text": [
      "Validation loss: 76.29679870605469\n",
      "Validation accuracy: 0.1203589108910891\n",
      "Epoch 32/100\n"
     ]
    },
    {
     "name": "stderr",
     "output_type": "stream",
     "text": [
      "100%|██████████| 1616/1616 [00:06<00:00, 231.22it/s]"
     ]
    },
    {
     "name": "stdout",
     "output_type": "stream",
     "text": [
      "Epoch train loss: 76.11540222167969\n",
      "Epoch accuracy: 0.12747524752475248\n",
      "------------------Validating--------------------\n"
     ]
    },
    {
     "name": "stderr",
     "output_type": "stream",
     "text": [
      "\n"
     ]
    },
    {
     "name": "stdout",
     "output_type": "stream",
     "text": [
      "Validation loss: 76.30517578125\n",
      "Validation accuracy: 0.11997215346534654\n",
      "Epoch 33/100\n"
     ]
    },
    {
     "name": "stderr",
     "output_type": "stream",
     "text": [
      "100%|██████████| 1616/1616 [00:06<00:00, 236.18it/s]"
     ]
    },
    {
     "name": "stdout",
     "output_type": "stream",
     "text": [
      "Epoch train loss: 76.07002258300781\n",
      "Epoch accuracy: 0.12935102103960397\n",
      "------------------Validating--------------------\n"
     ]
    },
    {
     "name": "stderr",
     "output_type": "stream",
     "text": [
      "\n"
     ]
    },
    {
     "name": "stdout",
     "output_type": "stream",
     "text": [
      "Validation loss: 76.31512451171875\n",
      "Validation accuracy: 0.11865717821782178\n",
      "Epoch 34/100\n"
     ]
    },
    {
     "name": "stderr",
     "output_type": "stream",
     "text": [
      "100%|██████████| 1616/1616 [00:07<00:00, 227.77it/s]\n"
     ]
    },
    {
     "name": "stdout",
     "output_type": "stream",
     "text": [
      "Epoch train loss: 76.05789947509766\n",
      "Epoch accuracy: 0.12861618193069307\n",
      "------------------Validating--------------------\n",
      "Validation loss: 76.36007690429688\n",
      "Validation accuracy: 0.11741955445544554\n",
      "Epoch 35/100\n"
     ]
    },
    {
     "name": "stderr",
     "output_type": "stream",
     "text": [
      "100%|██████████| 1616/1616 [00:07<00:00, 225.64it/s]"
     ]
    },
    {
     "name": "stdout",
     "output_type": "stream",
     "text": [
      "Epoch train loss: 76.0718765258789\n",
      "Epoch accuracy: 0.13002784653465346\n",
      "------------------Validating--------------------\n"
     ]
    },
    {
     "name": "stderr",
     "output_type": "stream",
     "text": [
      "\n"
     ]
    },
    {
     "name": "stdout",
     "output_type": "stream",
     "text": [
      "Validation loss: 76.32779693603516\n",
      "Validation accuracy: 0.11649133663366337\n",
      "Epoch 36/100\n"
     ]
    },
    {
     "name": "stderr",
     "output_type": "stream",
     "text": [
      "100%|██████████| 1616/1616 [00:07<00:00, 228.07it/s]"
     ]
    },
    {
     "name": "stdout",
     "output_type": "stream",
     "text": [
      "Epoch train loss: 76.0466079711914\n",
      "Epoch accuracy: 0.13163288985148514\n",
      "------------------Validating--------------------\n"
     ]
    },
    {
     "name": "stderr",
     "output_type": "stream",
     "text": [
      "\n"
     ]
    },
    {
     "name": "stdout",
     "output_type": "stream",
     "text": [
      "Validation loss: 76.31851196289062\n",
      "Validation accuracy: 0.11726485148514851\n",
      "Epoch 37/100\n"
     ]
    },
    {
     "name": "stderr",
     "output_type": "stream",
     "text": [
      "100%|██████████| 1616/1616 [00:07<00:00, 228.19it/s]"
     ]
    },
    {
     "name": "stdout",
     "output_type": "stream",
     "text": [
      "Epoch train loss: 76.0500717163086\n",
      "Epoch accuracy: 0.130859375\n",
      "------------------Validating--------------------\n"
     ]
    },
    {
     "name": "stderr",
     "output_type": "stream",
     "text": [
      "\n"
     ]
    },
    {
     "name": "stdout",
     "output_type": "stream",
     "text": [
      "Validation loss: 76.35588836669922\n",
      "Validation accuracy: 0.11393873762376237\n",
      "Epoch 38/100\n"
     ]
    },
    {
     "name": "stderr",
     "output_type": "stream",
     "text": [
      "100%|██████████| 1616/1616 [00:06<00:00, 233.51it/s]"
     ]
    },
    {
     "name": "stdout",
     "output_type": "stream",
     "text": [
      "Epoch train loss: 76.03429412841797\n",
      "Epoch accuracy: 0.1319229579207921\n",
      "------------------Validating--------------------\n"
     ]
    },
    {
     "name": "stderr",
     "output_type": "stream",
     "text": [
      "\n"
     ]
    },
    {
     "name": "stdout",
     "output_type": "stream",
     "text": [
      "Validation loss: 76.32183837890625\n",
      "Validation accuracy: 0.11711014851485149\n",
      "Epoch 39/100\n"
     ]
    },
    {
     "name": "stderr",
     "output_type": "stream",
     "text": [
      "100%|██████████| 1616/1616 [00:07<00:00, 224.14it/s]"
     ]
    },
    {
     "name": "stdout",
     "output_type": "stream",
     "text": [
      "Epoch train loss: 76.02595520019531\n",
      "Epoch accuracy: 0.13310256806930693\n",
      "------------------Validating--------------------\n"
     ]
    },
    {
     "name": "stderr",
     "output_type": "stream",
     "text": [
      "\n"
     ]
    },
    {
     "name": "stdout",
     "output_type": "stream",
     "text": [
      "Validation loss: 76.32131958007812\n",
      "Validation accuracy: 0.11517636138613861\n",
      "Epoch 40/100\n"
     ]
    },
    {
     "name": "stderr",
     "output_type": "stream",
     "text": [
      "100%|██████████| 1616/1616 [00:06<00:00, 232.46it/s]"
     ]
    },
    {
     "name": "stdout",
     "output_type": "stream",
     "text": [
      "Epoch train loss: 76.01187133789062\n",
      "Epoch accuracy: 0.1314008353960396\n",
      "------------------Validating--------------------\n"
     ]
    },
    {
     "name": "stderr",
     "output_type": "stream",
     "text": [
      "\n"
     ]
    },
    {
     "name": "stdout",
     "output_type": "stream",
     "text": [
      "Validation loss: 76.30618286132812\n",
      "Validation accuracy: 0.11850247524752475\n",
      "Epoch 41/100\n"
     ]
    },
    {
     "name": "stderr",
     "output_type": "stream",
     "text": [
      "100%|██████████| 1616/1616 [00:06<00:00, 231.65it/s]"
     ]
    },
    {
     "name": "stdout",
     "output_type": "stream",
     "text": [
      "Epoch train loss: 76.0127182006836\n",
      "Epoch accuracy: 0.13283183787128713\n",
      "------------------Validating--------------------\n"
     ]
    },
    {
     "name": "stderr",
     "output_type": "stream",
     "text": [
      "\n"
     ]
    },
    {
     "name": "stdout",
     "output_type": "stream",
     "text": [
      "Validation loss: 76.32910919189453\n",
      "Validation accuracy: 0.11749690594059406\n",
      "Epoch 42/100\n"
     ]
    },
    {
     "name": "stderr",
     "output_type": "stream",
     "text": [
      "100%|██████████| 1616/1616 [00:07<00:00, 229.58it/s]"
     ]
    },
    {
     "name": "stdout",
     "output_type": "stream",
     "text": [
      "Epoch train loss: 75.99543762207031\n",
      "Epoch accuracy: 0.13445621905940594\n",
      "------------------Validating--------------------\n"
     ]
    },
    {
     "name": "stderr",
     "output_type": "stream",
     "text": [
      "\n"
     ]
    },
    {
     "name": "stdout",
     "output_type": "stream",
     "text": [
      "Validation loss: 76.33238220214844\n",
      "Validation accuracy: 0.1155631188118812\n",
      "Epoch 43/100\n"
     ]
    },
    {
     "name": "stderr",
     "output_type": "stream",
     "text": [
      "100%|██████████| 1616/1616 [00:06<00:00, 232.00it/s]"
     ]
    },
    {
     "name": "stdout",
     "output_type": "stream",
     "text": [
      "Epoch train loss: 76.00267791748047\n",
      "Epoch accuracy: 0.1325417698019802\n",
      "------------------Validating--------------------\n"
     ]
    },
    {
     "name": "stderr",
     "output_type": "stream",
     "text": [
      "\n"
     ]
    },
    {
     "name": "stdout",
     "output_type": "stream",
     "text": [
      "Validation loss: 76.31532287597656\n",
      "Validation accuracy: 0.11896658415841584\n",
      "Epoch 44/100\n"
     ]
    },
    {
     "name": "stderr",
     "output_type": "stream",
     "text": [
      "100%|██████████| 1616/1616 [00:07<00:00, 227.61it/s]\n"
     ]
    },
    {
     "name": "stdout",
     "output_type": "stream",
     "text": [
      "Epoch train loss: 75.9848861694336\n",
      "Epoch accuracy: 0.13339263613861385\n",
      "------------------Validating--------------------\n",
      "Validation loss: 76.3691635131836\n",
      "Validation accuracy: 0.11277846534653466\n",
      "Epoch 45/100\n"
     ]
    },
    {
     "name": "stderr",
     "output_type": "stream",
     "text": [
      "100%|██████████| 1616/1616 [00:07<00:00, 228.39it/s]"
     ]
    },
    {
     "name": "stdout",
     "output_type": "stream",
     "text": [
      "Epoch train loss: 75.96244049072266\n",
      "Epoch accuracy: 0.13505569306930693\n",
      "------------------Validating--------------------\n"
     ]
    },
    {
     "name": "stderr",
     "output_type": "stream",
     "text": [
      "\n"
     ]
    },
    {
     "name": "stdout",
     "output_type": "stream",
     "text": [
      "Validation loss: 76.35909271240234\n",
      "Validation accuracy: 0.11324257425742575\n",
      "Epoch 46/100\n"
     ]
    },
    {
     "name": "stderr",
     "output_type": "stream",
     "text": [
      "100%|██████████| 1616/1616 [00:06<00:00, 233.38it/s]"
     ]
    },
    {
     "name": "stdout",
     "output_type": "stream",
     "text": [
      "Epoch train loss: 75.96098327636719\n",
      "Epoch accuracy: 0.1356358292079208\n",
      "------------------Validating--------------------\n"
     ]
    },
    {
     "name": "stderr",
     "output_type": "stream",
     "text": [
      "\n"
     ]
    },
    {
     "name": "stdout",
     "output_type": "stream",
     "text": [
      "Validation loss: 76.3604507446289\n",
      "Validation accuracy: 0.11270111386138613\n",
      "Epoch 47/100\n"
     ]
    },
    {
     "name": "stderr",
     "output_type": "stream",
     "text": [
      "100%|██████████| 1616/1616 [00:06<00:00, 232.79it/s]"
     ]
    },
    {
     "name": "stdout",
     "output_type": "stream",
     "text": [
      "Epoch train loss: 75.94644927978516\n",
      "Epoch accuracy: 0.13656404702970298\n",
      "------------------Validating--------------------\n"
     ]
    },
    {
     "name": "stderr",
     "output_type": "stream",
     "text": [
      "\n"
     ]
    },
    {
     "name": "stdout",
     "output_type": "stream",
     "text": [
      "Validation loss: 76.32135772705078\n",
      "Validation accuracy: 0.11602722772277228\n",
      "Epoch 48/100\n"
     ]
    },
    {
     "name": "stderr",
     "output_type": "stream",
     "text": [
      "100%|██████████| 1616/1616 [00:07<00:00, 229.37it/s]"
     ]
    },
    {
     "name": "stdout",
     "output_type": "stream",
     "text": [
      "Epoch train loss: 75.91716003417969\n",
      "Epoch accuracy: 0.13797571163366337\n",
      "------------------Validating--------------------\n"
     ]
    },
    {
     "name": "stderr",
     "output_type": "stream",
     "text": [
      "\n"
     ]
    },
    {
     "name": "stdout",
     "output_type": "stream",
     "text": [
      "Validation loss: 76.37709045410156\n",
      "Validation accuracy: 0.11208230198019802\n",
      "Epoch 49/100\n"
     ]
    },
    {
     "name": "stderr",
     "output_type": "stream",
     "text": [
      "100%|██████████| 1616/1616 [00:06<00:00, 231.13it/s]"
     ]
    },
    {
     "name": "stdout",
     "output_type": "stream",
     "text": [
      "Epoch train loss: 75.91609954833984\n",
      "Epoch accuracy: 0.1372021967821782\n",
      "------------------Validating--------------------\n"
     ]
    },
    {
     "name": "stderr",
     "output_type": "stream",
     "text": [
      "\n"
     ]
    },
    {
     "name": "stdout",
     "output_type": "stream",
     "text": [
      "Validation loss: 76.3538589477539\n",
      "Validation accuracy: 0.11765160891089109\n",
      "Epoch 50/100\n"
     ]
    },
    {
     "name": "stderr",
     "output_type": "stream",
     "text": [
      "100%|██████████| 1616/1616 [00:06<00:00, 237.01it/s]"
     ]
    },
    {
     "name": "stdout",
     "output_type": "stream",
     "text": [
      "Epoch train loss: 75.92439270019531\n",
      "Epoch accuracy: 0.1369894801980198\n",
      "------------------Validating--------------------\n"
     ]
    },
    {
     "name": "stderr",
     "output_type": "stream",
     "text": [
      "\n"
     ]
    },
    {
     "name": "stdout",
     "output_type": "stream",
     "text": [
      "Validation loss: 76.37808990478516\n",
      "Validation accuracy: 0.11463490099009901\n",
      "Epoch 51/100\n"
     ]
    },
    {
     "name": "stderr",
     "output_type": "stream",
     "text": [
      "100%|██████████| 1616/1616 [00:06<00:00, 233.60it/s]"
     ]
    },
    {
     "name": "stdout",
     "output_type": "stream",
     "text": [
      "Epoch train loss: 75.89781951904297\n",
      "Epoch accuracy: 0.13886525371287128\n",
      "------------------Validating--------------------\n"
     ]
    },
    {
     "name": "stderr",
     "output_type": "stream",
     "text": [
      "\n"
     ]
    },
    {
     "name": "stdout",
     "output_type": "stream",
     "text": [
      "Validation loss: 76.34346008300781\n",
      "Validation accuracy: 0.11517636138613861\n",
      "Epoch 52/100\n"
     ]
    },
    {
     "name": "stderr",
     "output_type": "stream",
     "text": [
      "100%|██████████| 1616/1616 [00:06<00:00, 234.45it/s]"
     ]
    },
    {
     "name": "stdout",
     "output_type": "stream",
     "text": [
      "Epoch train loss: 75.8905029296875\n",
      "Epoch accuracy: 0.13977413366336633\n",
      "------------------Validating--------------------\n"
     ]
    },
    {
     "name": "stderr",
     "output_type": "stream",
     "text": [
      "\n"
     ]
    },
    {
     "name": "stdout",
     "output_type": "stream",
     "text": [
      "Validation loss: 76.34170532226562\n",
      "Validation accuracy: 0.1188118811881188\n",
      "Epoch 53/100\n"
     ]
    },
    {
     "name": "stderr",
     "output_type": "stream",
     "text": [
      "100%|██████████| 1616/1616 [00:06<00:00, 231.71it/s]\n"
     ]
    },
    {
     "name": "stdout",
     "output_type": "stream",
     "text": [
      "Epoch train loss: 75.88768768310547\n",
      "Epoch accuracy: 0.13931002475247525\n",
      "------------------Validating--------------------\n",
      "Validation loss: 76.36421966552734\n",
      "Validation accuracy: 0.11448019801980198\n",
      "Epoch 54/100\n"
     ]
    },
    {
     "name": "stderr",
     "output_type": "stream",
     "text": [
      "100%|██████████| 1616/1616 [00:07<00:00, 228.44it/s]"
     ]
    },
    {
     "name": "stdout",
     "output_type": "stream",
     "text": [
      "Epoch train loss: 75.87671661376953\n",
      "Epoch accuracy: 0.13919399752475248\n",
      "------------------Validating--------------------\n"
     ]
    },
    {
     "name": "stderr",
     "output_type": "stream",
     "text": [
      "\n"
     ]
    },
    {
     "name": "stdout",
     "output_type": "stream",
     "text": [
      "Validation loss: 76.36467742919922\n",
      "Validation accuracy: 0.11463490099009901\n",
      "Epoch 55/100\n"
     ]
    },
    {
     "name": "stderr",
     "output_type": "stream",
     "text": [
      "100%|██████████| 1616/1616 [00:07<00:00, 226.23it/s]"
     ]
    },
    {
     "name": "stdout",
     "output_type": "stream",
     "text": [
      "Epoch train loss: 75.87831115722656\n",
      "Epoch accuracy: 0.13917465965346534\n",
      "------------------Validating--------------------\n"
     ]
    },
    {
     "name": "stderr",
     "output_type": "stream",
     "text": [
      "\n"
     ]
    },
    {
     "name": "stdout",
     "output_type": "stream",
     "text": [
      "Validation loss: 76.33487701416016\n",
      "Validation accuracy: 0.11726485148514851\n",
      "Epoch 56/100\n"
     ]
    },
    {
     "name": "stderr",
     "output_type": "stream",
     "text": [
      "100%|██████████| 1616/1616 [00:07<00:00, 227.94it/s]"
     ]
    },
    {
     "name": "stdout",
     "output_type": "stream",
     "text": [
      "Epoch train loss: 75.86647033691406\n",
      "Epoch accuracy: 0.14072168935643564\n",
      "------------------Validating--------------------\n"
     ]
    },
    {
     "name": "stderr",
     "output_type": "stream",
     "text": [
      "\n"
     ]
    },
    {
     "name": "stdout",
     "output_type": "stream",
     "text": [
      "Validation loss: 76.34880065917969\n",
      "Validation accuracy: 0.11734220297029703\n",
      "Epoch 57/100\n"
     ]
    },
    {
     "name": "stderr",
     "output_type": "stream",
     "text": [
      "100%|██████████| 1616/1616 [00:07<00:00, 227.54it/s]"
     ]
    },
    {
     "name": "stdout",
     "output_type": "stream",
     "text": [
      "Epoch train loss: 75.8600845336914\n",
      "Epoch accuracy: 0.1400835396039604\n",
      "------------------Validating--------------------\n"
     ]
    },
    {
     "name": "stderr",
     "output_type": "stream",
     "text": [
      "\n"
     ]
    },
    {
     "name": "stdout",
     "output_type": "stream",
     "text": [
      "Validation loss: 76.3614730834961\n",
      "Validation accuracy: 0.11741955445544554\n",
      "Epoch 58/100\n"
     ]
    },
    {
     "name": "stderr",
     "output_type": "stream",
     "text": [
      "100%|██████████| 1616/1616 [00:06<00:00, 231.88it/s]"
     ]
    },
    {
     "name": "stdout",
     "output_type": "stream",
     "text": [
      "Epoch train loss: 75.86166381835938\n",
      "Epoch accuracy: 0.13923267326732675\n",
      "------------------Validating--------------------\n"
     ]
    },
    {
     "name": "stderr",
     "output_type": "stream",
     "text": [
      "\n"
     ]
    },
    {
     "name": "stdout",
     "output_type": "stream",
     "text": [
      "Validation loss: 76.36062622070312\n",
      "Validation accuracy: 0.1156404702970297\n",
      "Epoch 59/100\n"
     ]
    },
    {
     "name": "stderr",
     "output_type": "stream",
     "text": [
      "100%|██████████| 1616/1616 [00:07<00:00, 229.29it/s]\n"
     ]
    },
    {
     "name": "stdout",
     "output_type": "stream",
     "text": [
      "Epoch train loss: 75.80673217773438\n",
      "Epoch accuracy: 0.1440478032178218\n",
      "------------------Validating--------------------\n",
      "Validation loss: 76.36803436279297\n",
      "Validation accuracy: 0.11362933168316831\n",
      "Epoch 60/100\n"
     ]
    },
    {
     "name": "stderr",
     "output_type": "stream",
     "text": [
      "100%|██████████| 1616/1616 [00:07<00:00, 229.24it/s]"
     ]
    },
    {
     "name": "stdout",
     "output_type": "stream",
     "text": [
      "Epoch train loss: 75.80548095703125\n",
      "Epoch accuracy: 0.14219136757425743\n",
      "------------------Validating--------------------\n"
     ]
    },
    {
     "name": "stderr",
     "output_type": "stream",
     "text": [
      "\n"
     ]
    },
    {
     "name": "stdout",
     "output_type": "stream",
     "text": [
      "Validation loss: 76.36189270019531\n",
      "Validation accuracy: 0.11324257425742575\n",
      "Epoch 61/100\n"
     ]
    },
    {
     "name": "stderr",
     "output_type": "stream",
     "text": [
      "100%|██████████| 1616/1616 [00:07<00:00, 224.83it/s]"
     ]
    },
    {
     "name": "stdout",
     "output_type": "stream",
     "text": [
      "Epoch train loss: 75.80982208251953\n",
      "Epoch accuracy: 0.14350634282178218\n",
      "------------------Validating--------------------\n"
     ]
    },
    {
     "name": "stderr",
     "output_type": "stream",
     "text": [
      "\n"
     ]
    },
    {
     "name": "stdout",
     "output_type": "stream",
     "text": [
      "Validation loss: 76.3626480102539\n",
      "Validation accuracy: 0.11486695544554455\n",
      "Epoch 62/100\n"
     ]
    },
    {
     "name": "stderr",
     "output_type": "stream",
     "text": [
      "100%|██████████| 1616/1616 [00:07<00:00, 228.31it/s]"
     ]
    },
    {
     "name": "stdout",
     "output_type": "stream",
     "text": [
      "Epoch train loss: 75.83454132080078\n",
      "Epoch accuracy: 0.14083771658415842\n",
      "------------------Validating--------------------\n"
     ]
    },
    {
     "name": "stderr",
     "output_type": "stream",
     "text": [
      "\n"
     ]
    },
    {
     "name": "stdout",
     "output_type": "stream",
     "text": [
      "Validation loss: 76.37625885009766\n",
      "Validation accuracy: 0.10983910891089109\n",
      "Epoch 63/100\n"
     ]
    },
    {
     "name": "stderr",
     "output_type": "stream",
     "text": [
      "100%|██████████| 1616/1616 [00:07<00:00, 230.66it/s]"
     ]
    },
    {
     "name": "stdout",
     "output_type": "stream",
     "text": [
      "Epoch train loss: 75.79704284667969\n",
      "Epoch accuracy: 0.14310024752475248\n",
      "------------------Validating--------------------\n"
     ]
    },
    {
     "name": "stderr",
     "output_type": "stream",
     "text": [
      "\n"
     ]
    },
    {
     "name": "stdout",
     "output_type": "stream",
     "text": [
      "Validation loss: 76.38615417480469\n",
      "Validation accuracy: 0.11308787128712872\n",
      "Epoch 64/100\n"
     ]
    },
    {
     "name": "stderr",
     "output_type": "stream",
     "text": [
      "100%|██████████| 1616/1616 [00:06<00:00, 231.92it/s]"
     ]
    },
    {
     "name": "stdout",
     "output_type": "stream",
     "text": [
      "Epoch train loss: 75.75333404541016\n",
      "Epoch accuracy: 0.1455948329207921\n",
      "------------------Validating--------------------\n"
     ]
    },
    {
     "name": "stderr",
     "output_type": "stream",
     "text": [
      "\n"
     ]
    },
    {
     "name": "stdout",
     "output_type": "stream",
     "text": [
      "Validation loss: 76.36873626708984\n",
      "Validation accuracy: 0.11339727722772278\n",
      "Epoch 65/100\n"
     ]
    },
    {
     "name": "stderr",
     "output_type": "stream",
     "text": [
      "100%|██████████| 1616/1616 [00:07<00:00, 227.08it/s]"
     ]
    },
    {
     "name": "stdout",
     "output_type": "stream",
     "text": [
      "Epoch train loss: 75.77821350097656\n",
      "Epoch accuracy: 0.14397045173267325\n",
      "------------------Validating--------------------\n"
     ]
    },
    {
     "name": "stderr",
     "output_type": "stream",
     "text": [
      "\n"
     ]
    },
    {
     "name": "stdout",
     "output_type": "stream",
     "text": [
      "Validation loss: 76.40125274658203\n",
      "Validation accuracy: 0.11231435643564357\n",
      "Epoch 66/100\n"
     ]
    },
    {
     "name": "stderr",
     "output_type": "stream",
     "text": [
      "100%|██████████| 1616/1616 [00:07<00:00, 227.64it/s]"
     ]
    },
    {
     "name": "stdout",
     "output_type": "stream",
     "text": [
      "Epoch train loss: 75.7721176147461\n",
      "Epoch accuracy: 0.1425007735148515\n",
      "------------------Validating--------------------\n"
     ]
    },
    {
     "name": "stderr",
     "output_type": "stream",
     "text": [
      "\n"
     ]
    },
    {
     "name": "stdout",
     "output_type": "stream",
     "text": [
      "Validation loss: 76.37216186523438\n",
      "Validation accuracy: 0.11378403465346534\n",
      "Epoch 67/100\n"
     ]
    },
    {
     "name": "stderr",
     "output_type": "stream",
     "text": [
      "100%|██████████| 1616/1616 [00:06<00:00, 237.16it/s]"
     ]
    },
    {
     "name": "stdout",
     "output_type": "stream",
     "text": [
      "Epoch train loss: 75.74333190917969\n",
      "Epoch accuracy: 0.14632967202970298\n",
      "------------------Validating--------------------\n"
     ]
    },
    {
     "name": "stderr",
     "output_type": "stream",
     "text": [
      "\n"
     ]
    },
    {
     "name": "stdout",
     "output_type": "stream",
     "text": [
      "Validation loss: 76.358642578125\n",
      "Validation accuracy: 0.11486695544554455\n",
      "Epoch 68/100\n"
     ]
    },
    {
     "name": "stderr",
     "output_type": "stream",
     "text": [
      "100%|██████████| 1616/1616 [00:07<00:00, 228.33it/s]"
     ]
    },
    {
     "name": "stdout",
     "output_type": "stream",
     "text": [
      "Epoch train loss: 75.74275970458984\n",
      "Epoch accuracy: 0.14588490099009901\n",
      "------------------Validating--------------------\n"
     ]
    },
    {
     "name": "stderr",
     "output_type": "stream",
     "text": [
      "\n"
     ]
    },
    {
     "name": "stdout",
     "output_type": "stream",
     "text": [
      "Validation loss: 76.3791732788086\n",
      "Validation accuracy: 0.11672339108910891\n",
      "Epoch 69/100\n"
     ]
    },
    {
     "name": "stderr",
     "output_type": "stream",
     "text": [
      "100%|██████████| 1616/1616 [00:07<00:00, 230.56it/s]"
     ]
    },
    {
     "name": "stdout",
     "output_type": "stream",
     "text": [
      "Epoch train loss: 75.7252426147461\n",
      "Epoch accuracy: 0.14781868811881188\n",
      "------------------Validating--------------------\n"
     ]
    },
    {
     "name": "stderr",
     "output_type": "stream",
     "text": [
      "\n"
     ]
    },
    {
     "name": "stdout",
     "output_type": "stream",
     "text": [
      "Validation loss: 76.356689453125\n",
      "Validation accuracy: 0.11680074257425743\n",
      "Epoch 70/100\n"
     ]
    },
    {
     "name": "stderr",
     "output_type": "stream",
     "text": [
      "100%|██████████| 1616/1616 [00:07<00:00, 226.04it/s]\n"
     ]
    },
    {
     "name": "stdout",
     "output_type": "stream",
     "text": [
      "Epoch train loss: 75.71562194824219\n",
      "Epoch accuracy: 0.14766398514851486\n",
      "------------------Validating--------------------\n",
      "Validation loss: 76.37863159179688\n",
      "Validation accuracy: 0.11239170792079207\n",
      "Epoch 71/100\n"
     ]
    },
    {
     "name": "stderr",
     "output_type": "stream",
     "text": [
      "100%|██████████| 1616/1616 [00:07<00:00, 229.75it/s]"
     ]
    },
    {
     "name": "stdout",
     "output_type": "stream",
     "text": [
      "Epoch train loss: 75.746826171875\n",
      "Epoch accuracy: 0.1459429146039604\n",
      "------------------Validating--------------------\n"
     ]
    },
    {
     "name": "stderr",
     "output_type": "stream",
     "text": [
      "\n"
     ]
    },
    {
     "name": "stdout",
     "output_type": "stream",
     "text": [
      "Validation loss: 76.4123306274414\n",
      "Validation accuracy: 0.11161819306930693\n",
      "Epoch 72/100\n"
     ]
    },
    {
     "name": "stderr",
     "output_type": "stream",
     "text": [
      "100%|██████████| 1616/1616 [00:07<00:00, 230.45it/s]\n"
     ]
    },
    {
     "name": "stdout",
     "output_type": "stream",
     "text": [
      "Epoch train loss: 75.72077941894531\n",
      "Epoch accuracy: 0.1456141707920792\n",
      "------------------Validating--------------------\n",
      "Validation loss: 76.40477752685547\n",
      "Validation accuracy: 0.11239170792079207\n",
      "Epoch 73/100\n"
     ]
    },
    {
     "name": "stderr",
     "output_type": "stream",
     "text": [
      "100%|██████████| 1616/1616 [00:07<00:00, 229.25it/s]"
     ]
    },
    {
     "name": "stdout",
     "output_type": "stream",
     "text": [
      "Epoch train loss: 75.72737884521484\n",
      "Epoch accuracy: 0.14619430693069307\n",
      "------------------Validating--------------------\n"
     ]
    },
    {
     "name": "stderr",
     "output_type": "stream",
     "text": [
      "\n"
     ]
    },
    {
     "name": "stdout",
     "output_type": "stream",
     "text": [
      "Validation loss: 76.36861419677734\n",
      "Validation accuracy: 0.11478960396039604\n",
      "Epoch 74/100\n"
     ]
    },
    {
     "name": "stderr",
     "output_type": "stream",
     "text": [
      "100%|██████████| 1616/1616 [00:07<00:00, 230.76it/s]"
     ]
    },
    {
     "name": "stdout",
     "output_type": "stream",
     "text": [
      "Epoch train loss: 75.67658996582031\n",
      "Epoch accuracy: 0.14723855198019803\n",
      "------------------Validating--------------------\n"
     ]
    },
    {
     "name": "stderr",
     "output_type": "stream",
     "text": [
      "\n"
     ]
    },
    {
     "name": "stdout",
     "output_type": "stream",
     "text": [
      "Validation loss: 76.39176177978516\n",
      "Validation accuracy: 0.11625928217821782\n",
      "Epoch 75/100\n"
     ]
    },
    {
     "name": "stderr",
     "output_type": "stream",
     "text": [
      "100%|██████████| 1616/1616 [00:06<00:00, 231.31it/s]"
     ]
    },
    {
     "name": "stdout",
     "output_type": "stream",
     "text": [
      "Epoch train loss: 75.68656158447266\n",
      "Epoch accuracy: 0.14986850247524752\n",
      "------------------Validating--------------------\n"
     ]
    },
    {
     "name": "stderr",
     "output_type": "stream",
     "text": [
      "\n"
     ]
    },
    {
     "name": "stdout",
     "output_type": "stream",
     "text": [
      "Validation loss: 76.37499237060547\n",
      "Validation accuracy: 0.11533106435643564\n",
      "Epoch 76/100\n"
     ]
    },
    {
     "name": "stderr",
     "output_type": "stream",
     "text": [
      "100%|██████████| 1616/1616 [00:06<00:00, 231.20it/s]"
     ]
    },
    {
     "name": "stdout",
     "output_type": "stream",
     "text": [
      "Epoch train loss: 75.69210052490234\n",
      "Epoch accuracy: 0.14841816212871287\n",
      "------------------Validating--------------------\n"
     ]
    },
    {
     "name": "stderr",
     "output_type": "stream",
     "text": [
      "\n"
     ]
    },
    {
     "name": "stdout",
     "output_type": "stream",
     "text": [
      "Validation loss: 76.38548278808594\n",
      "Validation accuracy: 0.11919863861386139\n",
      "Epoch 77/100\n"
     ]
    },
    {
     "name": "stderr",
     "output_type": "stream",
     "text": [
      "100%|██████████| 1616/1616 [00:07<00:00, 221.89it/s]"
     ]
    },
    {
     "name": "stdout",
     "output_type": "stream",
     "text": [
      "Epoch train loss: 75.68448638916016\n",
      "Epoch accuracy: 0.1473545792079208\n",
      "------------------Validating--------------------\n"
     ]
    },
    {
     "name": "stderr",
     "output_type": "stream",
     "text": [
      "\n"
     ]
    },
    {
     "name": "stdout",
     "output_type": "stream",
     "text": [
      "Validation loss: 76.35807037353516\n",
      "Validation accuracy: 0.11857982673267327\n",
      "Epoch 78/100\n"
     ]
    },
    {
     "name": "stderr",
     "output_type": "stream",
     "text": [
      "100%|██████████| 1616/1616 [00:06<00:00, 233.49it/s]"
     ]
    },
    {
     "name": "stdout",
     "output_type": "stream",
     "text": [
      "Epoch train loss: 75.64881896972656\n",
      "Epoch accuracy: 0.15040996287128713\n",
      "------------------Validating--------------------\n"
     ]
    },
    {
     "name": "stderr",
     "output_type": "stream",
     "text": [
      "\n"
     ]
    },
    {
     "name": "stdout",
     "output_type": "stream",
     "text": [
      "Validation loss: 76.39730072021484\n",
      "Validation accuracy: 0.11571782178217822\n",
      "Epoch 79/100\n"
     ]
    },
    {
     "name": "stderr",
     "output_type": "stream",
     "text": [
      "100%|██████████| 1616/1616 [00:06<00:00, 232.89it/s]"
     ]
    },
    {
     "name": "stdout",
     "output_type": "stream",
     "text": [
      "Epoch train loss: 75.67181396484375\n",
      "Epoch accuracy: 0.1495010829207921\n",
      "------------------Validating--------------------\n"
     ]
    },
    {
     "name": "stderr",
     "output_type": "stream",
     "text": [
      "\n"
     ]
    },
    {
     "name": "stdout",
     "output_type": "stream",
     "text": [
      "Validation loss: 76.38153839111328\n",
      "Validation accuracy: 0.11641398514851485\n",
      "Epoch 80/100\n"
     ]
    },
    {
     "name": "stderr",
     "output_type": "stream",
     "text": [
      "100%|██████████| 1616/1616 [00:06<00:00, 232.97it/s]\n"
     ]
    },
    {
     "name": "stdout",
     "output_type": "stream",
     "text": [
      "Epoch train loss: 75.62723541259766\n",
      "Epoch accuracy: 0.1504679764851485\n",
      "------------------Validating--------------------\n",
      "Validation loss: 76.40882110595703\n",
      "Validation accuracy: 0.11486695544554455\n",
      "Epoch 81/100\n"
     ]
    },
    {
     "name": "stderr",
     "output_type": "stream",
     "text": [
      "100%|██████████| 1616/1616 [00:06<00:00, 230.91it/s]"
     ]
    },
    {
     "name": "stdout",
     "output_type": "stream",
     "text": [
      "Epoch train loss: 75.64745330810547\n",
      "Epoch accuracy: 0.1487082301980198\n",
      "------------------Validating--------------------\n"
     ]
    },
    {
     "name": "stderr",
     "output_type": "stream",
     "text": [
      "\n"
     ]
    },
    {
     "name": "stdout",
     "output_type": "stream",
     "text": [
      "Validation loss: 76.37982940673828\n",
      "Validation accuracy: 0.11687809405940594\n",
      "Epoch 82/100\n"
     ]
    },
    {
     "name": "stderr",
     "output_type": "stream",
     "text": [
      "100%|██████████| 1616/1616 [00:06<00:00, 233.20it/s]\n"
     ]
    },
    {
     "name": "stdout",
     "output_type": "stream",
     "text": [
      "Epoch train loss: 75.65162658691406\n",
      "Epoch accuracy: 0.1494430693069307\n",
      "------------------Validating--------------------\n",
      "Validation loss: 76.39392852783203\n",
      "Validation accuracy: 0.11239170792079207\n",
      "Epoch 83/100\n"
     ]
    },
    {
     "name": "stderr",
     "output_type": "stream",
     "text": [
      "100%|██████████| 1616/1616 [00:07<00:00, 224.02it/s]"
     ]
    },
    {
     "name": "stdout",
     "output_type": "stream",
     "text": [
      "Epoch train loss: 75.62479400634766\n",
      "Epoch accuracy: 0.15155089727722773\n",
      "------------------Validating--------------------\n"
     ]
    },
    {
     "name": "stderr",
     "output_type": "stream",
     "text": [
      "\n"
     ]
    },
    {
     "name": "stdout",
     "output_type": "stream",
     "text": [
      "Validation loss: 76.37371826171875\n",
      "Validation accuracy: 0.11672339108910891\n",
      "Epoch 84/100\n"
     ]
    },
    {
     "name": "stderr",
     "output_type": "stream",
     "text": [
      "100%|██████████| 1616/1616 [00:07<00:00, 227.89it/s]\n"
     ]
    },
    {
     "name": "stdout",
     "output_type": "stream",
     "text": [
      "Epoch train loss: 75.6309814453125\n",
      "Epoch accuracy: 0.15023592202970298\n",
      "------------------Validating--------------------\n",
      "Validation loss: 76.3573989868164\n",
      "Validation accuracy: 0.11633663366336634\n",
      "Epoch 85/100\n"
     ]
    },
    {
     "name": "stderr",
     "output_type": "stream",
     "text": [
      "100%|██████████| 1616/1616 [00:06<00:00, 232.77it/s]"
     ]
    },
    {
     "name": "stdout",
     "output_type": "stream",
     "text": [
      "Epoch train loss: 75.6004867553711\n",
      "Epoch accuracy: 0.15211169554455445\n",
      "------------------Validating--------------------\n"
     ]
    },
    {
     "name": "stderr",
     "output_type": "stream",
     "text": [
      "\n"
     ]
    },
    {
     "name": "stdout",
     "output_type": "stream",
     "text": [
      "Validation loss: 76.38524627685547\n",
      "Validation accuracy: 0.11424814356435643\n",
      "Epoch 86/100\n"
     ]
    },
    {
     "name": "stderr",
     "output_type": "stream",
     "text": [
      "100%|██████████| 1616/1616 [00:07<00:00, 229.21it/s]"
     ]
    },
    {
     "name": "stdout",
     "output_type": "stream",
     "text": [
      "Epoch train loss: 75.59408569335938\n",
      "Epoch accuracy: 0.15110612623762376\n",
      "------------------Validating--------------------\n"
     ]
    },
    {
     "name": "stderr",
     "output_type": "stream",
     "text": [
      "\n"
     ]
    },
    {
     "name": "stdout",
     "output_type": "stream",
     "text": [
      "Validation loss: 76.38096618652344\n",
      "Validation accuracy: 0.1150990099009901\n",
      "Epoch 87/100\n"
     ]
    },
    {
     "name": "stderr",
     "output_type": "stream",
     "text": [
      "100%|██████████| 1616/1616 [00:07<00:00, 222.40it/s]"
     ]
    },
    {
     "name": "stdout",
     "output_type": "stream",
     "text": [
      "Epoch train loss: 75.58584594726562\n",
      "Epoch accuracy: 0.15271116955445543\n",
      "------------------Validating--------------------\n"
     ]
    },
    {
     "name": "stderr",
     "output_type": "stream",
     "text": [
      "\n"
     ]
    },
    {
     "name": "stdout",
     "output_type": "stream",
     "text": [
      "Validation loss: 76.42450714111328\n",
      "Validation accuracy: 0.11440284653465346\n",
      "Epoch 88/100\n"
     ]
    },
    {
     "name": "stderr",
     "output_type": "stream",
     "text": [
      "100%|██████████| 1616/1616 [00:06<00:00, 231.75it/s]\n"
     ]
    },
    {
     "name": "stdout",
     "output_type": "stream",
     "text": [
      "Epoch train loss: 75.61341094970703\n",
      "Epoch accuracy: 0.1512801670792079\n",
      "------------------Validating--------------------\n",
      "Validation loss: 76.39730072021484\n",
      "Validation accuracy: 0.11486695544554455\n",
      "Epoch 89/100\n"
     ]
    },
    {
     "name": "stderr",
     "output_type": "stream",
     "text": [
      "100%|██████████| 1616/1616 [00:06<00:00, 231.57it/s]"
     ]
    },
    {
     "name": "stdout",
     "output_type": "stream",
     "text": [
      "Epoch train loss: 75.58527374267578\n",
      "Epoch accuracy: 0.15373607673267325\n",
      "------------------Validating--------------------\n"
     ]
    },
    {
     "name": "stderr",
     "output_type": "stream",
     "text": [
      "\n"
     ]
    },
    {
     "name": "stdout",
     "output_type": "stream",
     "text": [
      "Validation loss: 76.38150787353516\n",
      "Validation accuracy: 0.11594987623762376\n",
      "Epoch 90/100\n"
     ]
    },
    {
     "name": "stderr",
     "output_type": "stream",
     "text": [
      "100%|██████████| 1616/1616 [00:07<00:00, 227.90it/s]"
     ]
    },
    {
     "name": "stdout",
     "output_type": "stream",
     "text": [
      "Epoch train loss: 75.53520202636719\n",
      "Epoch accuracy: 0.1533493193069307\n",
      "------------------Validating--------------------\n"
     ]
    },
    {
     "name": "stderr",
     "output_type": "stream",
     "text": [
      "\n"
     ]
    },
    {
     "name": "stdout",
     "output_type": "stream",
     "text": [
      "Validation loss: 76.37360382080078\n",
      "Validation accuracy: 0.11571782178217822\n",
      "Epoch 91/100\n"
     ]
    },
    {
     "name": "stderr",
     "output_type": "stream",
     "text": [
      "100%|██████████| 1616/1616 [00:07<00:00, 230.11it/s]"
     ]
    },
    {
     "name": "stdout",
     "output_type": "stream",
     "text": [
      "Epoch train loss: 75.54251098632812\n",
      "Epoch accuracy: 0.15507038985148514\n",
      "------------------Validating--------------------\n"
     ]
    },
    {
     "name": "stderr",
     "output_type": "stream",
     "text": [
      "\n"
     ]
    },
    {
     "name": "stdout",
     "output_type": "stream",
     "text": [
      "Validation loss: 76.40103912353516\n",
      "Validation accuracy: 0.11339727722772278\n",
      "Epoch 92/100\n"
     ]
    },
    {
     "name": "stderr",
     "output_type": "stream",
     "text": [
      "100%|██████████| 1616/1616 [00:07<00:00, 225.90it/s]"
     ]
    },
    {
     "name": "stdout",
     "output_type": "stream",
     "text": [
      "Epoch train loss: 75.56598663330078\n",
      "Epoch accuracy: 0.1539681311881188\n",
      "------------------Validating--------------------\n"
     ]
    },
    {
     "name": "stderr",
     "output_type": "stream",
     "text": [
      "\n"
     ]
    },
    {
     "name": "stdout",
     "output_type": "stream",
     "text": [
      "Validation loss: 76.3858413696289\n",
      "Validation accuracy: 0.11857982673267327\n",
      "Epoch 93/100\n"
     ]
    },
    {
     "name": "stderr",
     "output_type": "stream",
     "text": [
      "100%|██████████| 1616/1616 [00:07<00:00, 226.25it/s]"
     ]
    },
    {
     "name": "stdout",
     "output_type": "stream",
     "text": [
      "Epoch train loss: 75.5782470703125\n",
      "Epoch accuracy: 0.15141553217821782\n",
      "------------------Validating--------------------\n"
     ]
    },
    {
     "name": "stderr",
     "output_type": "stream",
     "text": [
      "\n"
     ]
    },
    {
     "name": "stdout",
     "output_type": "stream",
     "text": [
      "Validation loss: 76.38838958740234\n",
      "Validation accuracy: 0.11695544554455446\n",
      "Epoch 94/100\n"
     ]
    },
    {
     "name": "stderr",
     "output_type": "stream",
     "text": [
      "100%|██████████| 1616/1616 [00:07<00:00, 229.40it/s]"
     ]
    },
    {
     "name": "stdout",
     "output_type": "stream",
     "text": [
      "Epoch train loss: 75.53366088867188\n",
      "Epoch accuracy: 0.15479965965346534\n",
      "------------------Validating--------------------\n"
     ]
    },
    {
     "name": "stderr",
     "output_type": "stream",
     "text": [
      "\n"
     ]
    },
    {
     "name": "stdout",
     "output_type": "stream",
     "text": [
      "Validation loss: 76.38651275634766\n",
      "Validation accuracy: 0.11656868811881188\n",
      "Epoch 95/100\n"
     ]
    },
    {
     "name": "stderr",
     "output_type": "stream",
     "text": [
      "100%|██████████| 1616/1616 [00:07<00:00, 227.90it/s]"
     ]
    },
    {
     "name": "stdout",
     "output_type": "stream",
     "text": [
      "Epoch train loss: 75.53277587890625\n",
      "Epoch accuracy: 0.15549582301980197\n",
      "------------------Validating--------------------\n"
     ]
    },
    {
     "name": "stderr",
     "output_type": "stream",
     "text": [
      "\n"
     ]
    },
    {
     "name": "stdout",
     "output_type": "stream",
     "text": [
      "Validation loss: 76.41362762451172\n",
      "Validation accuracy: 0.11765160891089109\n",
      "Epoch 96/100\n"
     ]
    },
    {
     "name": "stderr",
     "output_type": "stream",
     "text": [
      "100%|██████████| 1616/1616 [00:07<00:00, 226.04it/s]"
     ]
    },
    {
     "name": "stdout",
     "output_type": "stream",
     "text": [
      "Epoch train loss: 75.55058288574219\n",
      "Epoch accuracy: 0.15377475247524752\n",
      "------------------Validating--------------------\n"
     ]
    },
    {
     "name": "stderr",
     "output_type": "stream",
     "text": [
      "\n"
     ]
    },
    {
     "name": "stdout",
     "output_type": "stream",
     "text": [
      "Validation loss: 76.41767883300781\n",
      "Validation accuracy: 0.11540841584158416\n",
      "Epoch 97/100\n"
     ]
    },
    {
     "name": "stderr",
     "output_type": "stream",
     "text": [
      "100%|██████████| 1616/1616 [00:07<00:00, 223.13it/s]\n"
     ]
    },
    {
     "name": "stdout",
     "output_type": "stream",
     "text": [
      "Epoch train loss: 75.50614166259766\n",
      "Epoch accuracy: 0.15650139232673269\n",
      "------------------Validating--------------------\n",
      "Validation loss: 76.45643615722656\n",
      "Validation accuracy: 0.11478960396039604\n",
      "Epoch 98/100\n"
     ]
    },
    {
     "name": "stderr",
     "output_type": "stream",
     "text": [
      "100%|██████████| 1616/1616 [00:07<00:00, 229.90it/s]\n"
     ]
    },
    {
     "name": "stdout",
     "output_type": "stream",
     "text": [
      "Epoch train loss: 75.530517578125\n",
      "Epoch accuracy: 0.1548383353960396\n",
      "------------------Validating--------------------\n",
      "Validation loss: 76.4218521118164\n",
      "Validation accuracy: 0.11594987623762376\n",
      "Epoch 99/100\n"
     ]
    },
    {
     "name": "stderr",
     "output_type": "stream",
     "text": [
      "100%|██████████| 1616/1616 [00:07<00:00, 230.70it/s]"
     ]
    },
    {
     "name": "stdout",
     "output_type": "stream",
     "text": [
      "Epoch train loss: 75.50631713867188\n",
      "Epoch accuracy: 0.1571975556930693\n",
      "------------------Validating--------------------\n"
     ]
    },
    {
     "name": "stderr",
     "output_type": "stream",
     "text": [
      "\n"
     ]
    },
    {
     "name": "stdout",
     "output_type": "stream",
     "text": [
      "Validation loss: 76.44506072998047\n",
      "Validation accuracy: 0.11579517326732673\n",
      "Epoch 100/100\n"
     ]
    },
    {
     "name": "stderr",
     "output_type": "stream",
     "text": [
      "100%|██████████| 1616/1616 [00:07<00:00, 229.88it/s]"
     ]
    },
    {
     "name": "stdout",
     "output_type": "stream",
     "text": [
      "Epoch train loss: 75.48067474365234\n",
      "Epoch accuracy: 0.15683013613861385\n",
      "------------------Validating--------------------\n"
     ]
    },
    {
     "name": "stderr",
     "output_type": "stream",
     "text": [
      "\n"
     ]
    },
    {
     "name": "stdout",
     "output_type": "stream",
     "text": [
      "Validation loss: 76.46429443359375\n",
      "Validation accuracy: 0.11417079207920793\n"
     ]
    }
   ],
   "source": [
    "device = 'cuda' if torch.cuda.is_available() else 'cpu'\n",
    "print(device)\n",
    "\n",
    "model = Classifier().to(device=device)\n",
    "\n",
    "optimizer = Adam(model.parameters(), lr=0.0001)                                           \n",
    "loss_function = CrossEntropyLoss()\n",
    "\n",
    "n_epochs = 100\n",
    "\n",
    "validation_data = []\n",
    "training_data = []\n",
    "\n",
    "for epoch in range(n_epochs):\n",
    "    \n",
    "    print(f'Epoch {epoch+1}/{n_epochs}')\n",
    "    model.train()\n",
    "\n",
    "    train_loss = 0.0\n",
    "    train_accuracy = 0.0\n",
    "\n",
    "    for data, labels in tqdm(train_dataloader):\n",
    "        \n",
    "        data = data.to(device)\n",
    "        labels = labels.to(device)\n",
    "        optimizer.zero_grad()\n",
    "\n",
    "        outputs = model(data)\n",
    "        #Loss\n",
    "        loss = loss_function(outputs, labels)\n",
    "        loss.backward()\n",
    "        optimizer.step()\n",
    "        train_loss += loss.cpu().data*data.size(0)\n",
    "\n",
    "        #Prediction\n",
    "        expected_prediction = []\n",
    "        for i in labels:\n",
    "            expected_prediction.append(((i == 1).nonzero(as_tuple=True)[0]))\n",
    "        \n",
    "        expected_prediction = torch.Tensor(expected_prediction).type(torch.int16).to(device)\n",
    "        _, prediction = torch.max(outputs.data, 1)\n",
    "        train_accuracy+=int(torch.sum(prediction==expected_prediction))        \n",
    "        \n",
    "    \n",
    "    train_loss/=(len(train_dataloader))\n",
    "    train_accuracy/=(len(train_dataloader) * batch_size)\n",
    "    training_data.append(train_loss.item())\n",
    "\n",
    "    print('Epoch train loss:', train_loss.item())\n",
    "    print('Epoch accuracy:', train_accuracy)\n",
    "\n",
    "    print(\"------------------Validating--------------------\")\n",
    "    model.eval()\n",
    "    val_loss = 0.0\n",
    "    val_accuracy = 0.0\n",
    "    for data, labels in test_dataloader:\n",
    "        data = data.to(device)\n",
    "        labels = labels.to(device)\n",
    "        \n",
    "        outputs = model(data)\n",
    "        #Prediction\n",
    "        expected_prediction = []\n",
    "        for i in labels:\n",
    "            expected_prediction.append(((i == 1).nonzero(as_tuple=True)[0]))\n",
    "        expected_prediction = torch.Tensor(expected_prediction).type(torch.int16).to(device)\n",
    "        _, prediction = torch.max(outputs.data, 1)\n",
    "        val_accuracy+=int(torch.sum(prediction==expected_prediction))        \n",
    "        #Loss\n",
    "        val_loss += loss_function(outputs, labels)*data.size(0)\n",
    "\n",
    "    val_loss /= len(test_dataloader)\n",
    "    val_accuracy /= (len(test_dataloader)*batch_size)\n",
    "    validation_data.append(val_loss.item())\n",
    "    print('Validation loss:',val_loss.item())\n",
    "    print('Validation accuracy:',val_accuracy)"
   ]
  },
  {
   "cell_type": "code",
   "execution_count": 24,
   "metadata": {},
   "outputs": [
    {
     "name": "stdout",
     "output_type": "stream",
     "text": [
      "[76.47708129882812, 76.46925354003906, 76.44933319091797, 76.4587173461914, 76.4296875, 76.40625762939453, 76.39418029785156, 76.38593292236328, 76.39505767822266, 76.38512420654297, 76.38058471679688, 76.36410522460938, 76.35575103759766, 76.36653137207031, 76.36030578613281, 76.3564453125, 76.34281921386719, 76.34764862060547, 76.32130432128906, 76.32640075683594, 76.34148406982422, 76.3126220703125, 76.33979797363281, 76.31517028808594, 76.31539154052734, 76.29236602783203, 76.3170394897461, 76.30061340332031, 76.32042694091797, 76.34402465820312, 76.29679870605469, 76.30517578125, 76.31512451171875, 76.36007690429688, 76.32779693603516, 76.31851196289062, 76.35588836669922, 76.32183837890625, 76.32131958007812, 76.30618286132812, 76.32910919189453, 76.33238220214844, 76.31532287597656, 76.3691635131836, 76.35909271240234, 76.3604507446289, 76.32135772705078, 76.37709045410156, 76.3538589477539, 76.37808990478516, 76.34346008300781, 76.34170532226562, 76.36421966552734, 76.36467742919922, 76.33487701416016, 76.34880065917969, 76.3614730834961, 76.36062622070312, 76.36803436279297, 76.36189270019531, 76.3626480102539, 76.37625885009766, 76.38615417480469, 76.36873626708984, 76.40125274658203, 76.37216186523438, 76.358642578125, 76.3791732788086, 76.356689453125, 76.37863159179688, 76.4123306274414, 76.40477752685547, 76.36861419677734, 76.39176177978516, 76.37499237060547, 76.38548278808594, 76.35807037353516, 76.39730072021484, 76.38153839111328, 76.40882110595703, 76.37982940673828, 76.39392852783203, 76.37371826171875, 76.3573989868164, 76.38524627685547, 76.38096618652344, 76.42450714111328, 76.39730072021484, 76.38150787353516, 76.37360382080078, 76.40103912353516, 76.3858413696289, 76.38838958740234, 76.38651275634766, 76.41362762451172, 76.41767883300781, 76.45643615722656, 76.4218521118164, 76.44506072998047, 76.46429443359375]\n"
     ]
    },
    {
     "data": {
      "image/png": "[encoded data removed]",
      "text/plain": [
       "<Figure size 640x480 with 1 Axes>"
      ]
     },
     "metadata": {},
     "output_type": "display_data"
    }
   ],
   "source": [
    "print(validation_data)\n",
    "x = [i+1 for i in range(len(validation_data))]\n",
    "\n",
    "plt.plot(x, validation_data, label ='val')\n",
    "plt.plot(x, training_data, '-.', label ='train')\n",
    "\n",
    "plt.xlabel(\"Epoch\")\n",
    "plt.ylabel(\"Loss\")\n",
    "plt.legend()\n",
    "plt.title('Loss v.s Epoch')\n",
    "plt.grid()\n",
    "\n",
    "plt.show()"
   ]
  }
 ],
 "metadata": {
  "kernelspec": {
   "display_name": "base",
   "language": "python",
   "name": "python3"
  },
  "language_info": {
   "codemirror_mode": {
    "name": "ipython",
    "version": 3
   },
   "file_extension": ".py",
   "mimetype": "text/x-python",
   "name": "python",
   "nbconvert_exporter": "python",
   "pygments_lexer": "ipython3",
   "version": "3.10.11"
  },
  "orig_nbformat": 4
 },
 "nbformat": 4,
 "nbformat_minor": 2
}
