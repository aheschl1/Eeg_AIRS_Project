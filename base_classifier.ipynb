{
 "cells": [
  {
   "cell_type": "code",
   "execution_count": 1,
   "metadata": {},
   "outputs": [],
   "source": [
    "import pandas as pd\n",
    "import numpy as np\n",
    "import mne\n",
    "import glob\n",
    "from tqdm import tqdm\n",
    "\n",
    "from EegHelper.EegData import EegDataPoint, EegDataset, files_to_datapoints\n",
    "from EegHelper.DataIO import DataBuilder, split_main_data\n",
    "\n",
    "%matplotlib inline\n",
    "\n",
    "#Following two are so that external files are auto loaded after edit\n",
    "%load_ext autoreload\n",
    "%autoreload 2\n",
    "#mne outputs so much stuff, so just set log level\n",
    "mne.set_log_level('error')"
   ]
  },
  {
   "cell_type": "code",
   "execution_count": 96,
   "metadata": {},
   "outputs": [
    {
     "name": "stdout",
     "output_type": "stream",
     "text": [
      "Loading epoc data...\n"
     ]
    },
    {
     "name": "stderr",
     "output_type": "stream",
     "text": [
      " 82%|████████▏ | 53598/65034 [02:33<00:18, 627.03it/s]"
     ]
    }
   ],
   "source": [
    "files = glob.glob('./MindBigData-EP-v1.0/*.csv')\n",
    "all_points, all_labels = files_to_datapoints(epoc_files = files, first_n=len(files)) #first_n = 500 by default. Apply first_n = len(files) to load all"
   ]
  },
  {
   "cell_type": "code",
   "execution_count": null,
   "metadata": {},
   "outputs": [
    {
     "name": "stdout",
     "output_type": "stream",
     "text": [
      "Num points EPOC: 496\n",
      "Num labels EPOC: 11\n",
      "Labels EPOC: ['0', '1', '2', '6', '3', '5', '8', '4', '7', '-1', '9']\n",
      "------------------------------------\n",
      "Data shape EPOC (256, 14)\n"
     ]
    }
   ],
   "source": [
    "print(\"Num points EPOC:\", len(all_points))\n",
    "print(\"Num labels EPOC:\", len(all_labels))\n",
    "print(\"Labels EPOC:\", all_labels)\n",
    "print(\"------------------------------------\")\n",
    "print(\"Data shape EPOC\", all_points[0].raw_data.shape)"
   ]
  },
  {
   "cell_type": "code",
   "execution_count": null,
   "metadata": {},
   "outputs": [
    {
     "data": {
      "application/vnd.jupyter.widget-view+json": {
       "model_id": "6281d424106741989cd42b9f7950914a",
       "version_major": 2,
       "version_minor": 0
      },
      "text/plain": [
       "  0%|          | 0/496 [00:00<?, ?it/s]"
      ]
     },
     "metadata": {},
     "output_type": "display_data"
    }
   ],
   "source": [
    "for point in tqdm(all_points):\n",
    "    #point.full_clean(channels=['T7', 'P7', 'P8', 'T8'])\n",
    "    point.crop_to_channels(channels=['T7', 'P7', 'P8', 'T8'])"
   ]
  },
  {
   "cell_type": "code",
   "execution_count": null,
   "metadata": {},
   "outputs": [
    {
     "name": "stdout",
     "output_type": "stream",
     "text": [
      "4522.564102 4180.51282\n",
      "4532.820512 4212.820512\n",
      "4500.0 4140.51282\n",
      "4418.461538 3952.307693\n",
      "4525.641025 4199.487179\n",
      "4526.153846 4151.282051\n",
      "4550.76923 4184.615384\n",
      "4516.410256 4174.871794\n",
      "4646.666666 3702.051283\n",
      "4500.0 4152.307692\n",
      "4518.974358 4181.538461\n",
      "4503.589743 4194.871794\n",
      "4543.076923 4182.564102\n",
      "4486.153846 4166.153846\n",
      "4511.794871 4161.025641\n",
      "4513.333333 4182.051282\n",
      "4648.717948 4182.564102\n",
      "4469.230769 4109.743589\n",
      "4575.897435 4184.102564\n",
      "4521.538461 4136.410256\n",
      "4513.333333 4175.384615\n",
      "4481.538461 4141.025641\n",
      "4555.384615 4180.51282\n",
      "4537.435897 4075.897435\n",
      "4538.461538 4192.307692\n",
      "4534.871794 4164.102564\n",
      "4517.435897 4186.153846\n",
      "4548.717948 4134.358974\n",
      "4575.384615 4191.794871\n",
      "4523.589743 4178.461538\n",
      "4521.538461 4182.564102\n",
      "4533.333333 4151.282051\n",
      "4531.794871 4178.461538\n",
      "4531.794871 4158.461538\n",
      "4536.923076 4180.51282\n",
      "4531.794871 4183.589743\n",
      "4538.461538 4182.564102\n",
      "4506.666666 4115.897435\n",
      "4596.410256 4154.358974\n",
      "4543.589743 4078.974358\n",
      "4524.102564 4183.076923\n",
      "4530.76923 4165.128205\n",
      "4586.153846 4156.410256\n",
      "4565.641025 4157.435897\n",
      "4519.487179 4181.538461\n",
      "4521.538461 4201.538461\n",
      "4608.205128 4161.025641\n",
      "4567.692307 4172.307692\n",
      "4527.179487 4171.794871\n",
      "4512.307692 4167.179487\n"
     ]
    }
   ],
   "source": [
    "# all_points[15].mne_object.plot(scalings = 'auto');\n",
    "\n",
    "for i in range(50):\n",
    "    print(np.max(all_points[i].raw_data), np.min(all_points[i].raw_data))"
   ]
  },
  {
   "cell_type": "code",
   "execution_count": 62,
   "metadata": {},
   "outputs": [],
   "source": [
    "from sklearn.model_selection import train_test_split\n",
    "from torch.utils.data import DataLoader\n",
    "import torch\n",
    "from torch.optim import Adam, SGD\n",
    "import torch.nn as nn\n",
    "from torch.nn import MSELoss, CrossEntropyLoss\n",
    "from models.EegClassifierA import Classifier\n",
    "from tqdm.notebook import tqdm\n",
    "import matplotlib.pyplot as plt\n",
    "\n",
    "%matplotlib inline"
   ]
  },
  {
   "cell_type": "code",
   "execution_count": null,
   "metadata": {},
   "outputs": [],
   "source": [
    "https://github.com/vlawhern/arl-eegmodels\n",
    "\n",
    "https://github.com/SuperBruceJia/EEG-DL\n",
    "\n",
    "https://github.com/SuperBruceJia/EEG-Motor-Imagery-Classification-CNNs-TensorFlow"
   ]
  },
  {
   "cell_type": "code",
   "execution_count": 66,
   "metadata": {},
   "outputs": [],
   "source": [
    "batch_size = 32\n",
    "num_workers = 4\n",
    "\n",
    "dataset = EegDataset(data_points=all_points, labels=all_labels)\n",
    "train, test = train_test_split(dataset, train_size=0.8, shuffle=True)\n",
    "\n",
    "train_dataloader = DataLoader(train, batch_size=batch_size, num_workers=num_workers, shuffle=True)\n",
    "test_dataloader = DataLoader(test, batch_size=batch_size, num_workers=num_workers)"
   ]
  },
  {
   "cell_type": "code",
   "execution_count": 83,
   "metadata": {},
   "outputs": [
    {
     "name": "stdout",
     "output_type": "stream",
     "text": [
      "cuda\n",
      "Epoch 1/100\n"
     ]
    },
    {
     "data": {
      "application/vnd.jupyter.widget-view+json": {
       "model_id": "030631978d404fd7955e24b2b6d688ff",
       "version_major": 2,
       "version_minor": 0
      },
      "text/plain": [
       "  0%|          | 0/1616 [00:00<?, ?it/s]"
      ]
     },
     "metadata": {},
     "output_type": "display_data"
    },
    {
     "name": "stdout",
     "output_type": "stream",
     "text": [
      "Epoch train loss: 2.624870777130127\n",
      "Epoch accuracy: 0.09976407797029703\n",
      "------------------Validating--------------------\n",
      "Validation loss: 2.6232945919036865\n",
      "Validation accuracy: 0.09645730198019802\n",
      "Epoch 2/100\n"
     ]
    },
    {
     "data": {
      "application/vnd.jupyter.widget-view+json": {
       "model_id": "5af1e50af40d4373b51b783f2f8f69db",
       "version_major": 2,
       "version_minor": 0
      },
      "text/plain": [
       "  0%|          | 0/1616 [00:00<?, ?it/s]"
      ]
     },
     "metadata": {},
     "output_type": "display_data"
    },
    {
     "name": "stdout",
     "output_type": "stream",
     "text": [
      "Epoch train loss: 2.620471239089966\n",
      "Epoch accuracy: 0.10475324876237624\n",
      "------------------Validating--------------------\n",
      "Validation loss: 2.621497631072998\n",
      "Validation accuracy: 0.10032487623762376\n",
      "Epoch 3/100\n"
     ]
    },
    {
     "data": {
      "application/vnd.jupyter.widget-view+json": {
       "model_id": "064bda71bfdc4f07be3f80d7133c9cb0",
       "version_major": 2,
       "version_minor": 0
      },
      "text/plain": [
       "  0%|          | 0/1616 [00:00<?, ?it/s]"
      ]
     },
     "metadata": {},
     "output_type": "display_data"
    },
    {
     "name": "stdout",
     "output_type": "stream",
     "text": [
      "Epoch train loss: 2.618872880935669\n",
      "Epoch accuracy: 0.10676438737623763\n",
      "------------------Validating--------------------\n",
      "Validation loss: 2.6213314533233643\n",
      "Validation accuracy: 0.1015625\n",
      "Epoch 4/100\n"
     ]
    },
    {
     "data": {
      "application/vnd.jupyter.widget-view+json": {
       "model_id": "6a0f218b0d634f2693a43fec0a1542dd",
       "version_major": 2,
       "version_minor": 0
      },
      "text/plain": [
       "  0%|          | 0/1616 [00:00<?, ?it/s]"
      ]
     },
     "metadata": {},
     "output_type": "display_data"
    },
    {
     "name": "stdout",
     "output_type": "stream",
     "text": [
      "Epoch train loss: 2.6167807579040527\n",
      "Epoch accuracy: 0.11302985767326733\n",
      "------------------Validating--------------------\n",
      "Validation loss: 2.6214699745178223\n",
      "Validation accuracy: 0.09661200495049505\n",
      "Epoch 5/100\n"
     ]
    },
    {
     "data": {
      "application/vnd.jupyter.widget-view+json": {
       "model_id": "e18d6c14ce04486698d52b05956c796a",
       "version_major": 2,
       "version_minor": 0
      },
      "text/plain": [
       "  0%|          | 0/1616 [00:00<?, ?it/s]"
      ]
     },
     "metadata": {},
     "output_type": "display_data"
    },
    {
     "name": "stdout",
     "output_type": "stream",
     "text": [
      "Epoch train loss: 2.6154091358184814\n",
      "Epoch accuracy: 0.11388072400990099\n",
      "------------------Validating--------------------\n",
      "Validation loss: 2.6217236518859863\n",
      "Validation accuracy: 0.10303217821782178\n",
      "Epoch 6/100\n"
     ]
    },
    {
     "data": {
      "application/vnd.jupyter.widget-view+json": {
       "model_id": "c3f7e1a4b673435ca60b7e2e767d854d",
       "version_major": 2,
       "version_minor": 0
      },
      "text/plain": [
       "  0%|          | 0/1616 [00:00<?, ?it/s]"
      ]
     },
     "metadata": {},
     "output_type": "display_data"
    },
    {
     "name": "stdout",
     "output_type": "stream",
     "text": [
      "Epoch train loss: 2.612605333328247\n",
      "Epoch accuracy: 0.11970142326732673\n",
      "------------------Validating--------------------\n",
      "Validation loss: 2.6243436336517334\n",
      "Validation accuracy: 0.10125309405940594\n",
      "Epoch 7/100\n"
     ]
    },
    {
     "data": {
      "application/vnd.jupyter.widget-view+json": {
       "model_id": "3b6cd4a6ea664d11a6b74d9af01222c1",
       "version_major": 2,
       "version_minor": 0
      },
      "text/plain": [
       "  0%|          | 0/1616 [00:00<?, ?it/s]"
      ]
     },
     "metadata": {},
     "output_type": "display_data"
    },
    {
     "name": "stdout",
     "output_type": "stream",
     "text": [
      "Epoch train loss: 2.6081900596618652\n",
      "Epoch accuracy: 0.1276879641089109\n",
      "------------------Validating--------------------\n",
      "Validation loss: 2.628465414047241\n",
      "Validation accuracy: 0.09769492574257425\n",
      "Epoch 8/100\n"
     ]
    },
    {
     "data": {
      "application/vnd.jupyter.widget-view+json": {
       "model_id": "aaa7f605a26c4900911a23f8515ece26",
       "version_major": 2,
       "version_minor": 0
      },
      "text/plain": [
       "  0%|          | 0/1616 [00:00<?, ?it/s]"
      ]
     },
     "metadata": {},
     "output_type": "display_data"
    },
    {
     "name": "stdout",
     "output_type": "stream",
     "text": [
      "Epoch train loss: 2.6052305698394775\n",
      "Epoch accuracy: 0.13499767945544555\n",
      "------------------Validating--------------------\n",
      "Validation loss: 2.6270878314971924\n",
      "Validation accuracy: 0.10241336633663366\n",
      "Epoch 9/100\n"
     ]
    },
    {
     "data": {
      "application/vnd.jupyter.widget-view+json": {
       "model_id": "6415afa8512144fb9f6729fbec47d139",
       "version_major": 2,
       "version_minor": 0
      },
      "text/plain": [
       "  0%|          | 0/1616 [00:00<?, ?it/s]"
      ]
     },
     "metadata": {},
     "output_type": "display_data"
    },
    {
     "name": "stdout",
     "output_type": "stream",
     "text": [
      "Epoch train loss: 2.5999114513397217\n",
      "Epoch accuracy: 0.14097308168316833\n",
      "------------------Validating--------------------\n",
      "Validation loss: 2.6313986778259277\n",
      "Validation accuracy: 0.10380569306930693\n",
      "Epoch 10/100\n"
     ]
    },
    {
     "data": {
      "application/vnd.jupyter.widget-view+json": {
       "model_id": "feed6507c61f457a84354949dd545fb7",
       "version_major": 2,
       "version_minor": 0
      },
      "text/plain": [
       "  0%|          | 0/1616 [00:00<?, ?it/s]"
      ]
     },
     "metadata": {},
     "output_type": "display_data"
    },
    {
     "name": "stdout",
     "output_type": "stream",
     "text": [
      "Epoch train loss: 2.5937342643737793\n",
      "Epoch accuracy: 0.1475479579207921\n",
      "------------------Validating--------------------\n",
      "Validation loss: 2.6341655254364014\n",
      "Validation accuracy: 0.10133044554455446\n",
      "Epoch 11/100\n"
     ]
    },
    {
     "data": {
      "application/vnd.jupyter.widget-view+json": {
       "model_id": "db16152df25b4e158f6742a113039a7a",
       "version_major": 2,
       "version_minor": 0
      },
      "text/plain": [
       "  0%|          | 0/1616 [00:00<?, ?it/s]"
      ]
     },
     "metadata": {},
     "output_type": "display_data"
    },
    {
     "name": "stdout",
     "output_type": "stream",
     "text": [
      "Epoch train loss: 2.586787700653076\n",
      "Epoch accuracy: 0.15895730198019803\n",
      "------------------Validating--------------------\n",
      "Validation loss: 2.637917995452881\n",
      "Validation accuracy: 0.10272277227722772\n",
      "Epoch 12/100\n"
     ]
    },
    {
     "data": {
      "application/vnd.jupyter.widget-view+json": {
       "model_id": "c2897c8b8c3b41a0b4d40c4ef3650d6b",
       "version_major": 2,
       "version_minor": 0
      },
      "text/plain": [
       "  0%|          | 0/1616 [00:00<?, ?it/s]"
      ]
     },
     "metadata": {},
     "output_type": "display_data"
    },
    {
     "name": "stdout",
     "output_type": "stream",
     "text": [
      "Epoch train loss: 2.5806949138641357\n",
      "Epoch accuracy: 0.1647199876237624\n",
      "------------------Validating--------------------\n",
      "Validation loss: 2.642123222351074\n",
      "Validation accuracy: 0.10202660891089109\n",
      "Epoch 13/100\n"
     ]
    },
    {
     "data": {
      "application/vnd.jupyter.widget-view+json": {
       "model_id": "c4e8fa8db151429ab5756b1646868187",
       "version_major": 2,
       "version_minor": 0
      },
      "text/plain": [
       "  0%|          | 0/1616 [00:00<?, ?it/s]"
      ]
     },
     "metadata": {},
     "output_type": "display_data"
    },
    {
     "name": "stdout",
     "output_type": "stream",
     "text": [
      "Epoch train loss: 2.5743465423583984\n",
      "Epoch accuracy: 0.17338335396039603\n",
      "------------------Validating--------------------\n",
      "Validation loss: 2.64540433883667\n",
      "Validation accuracy: 0.10558477722772278\n",
      "Epoch 14/100\n"
     ]
    },
    {
     "data": {
      "application/vnd.jupyter.widget-view+json": {
       "model_id": "7f3282319fd149a797607022faaa7443",
       "version_major": 2,
       "version_minor": 0
      },
      "text/plain": [
       "  0%|          | 0/1616 [00:00<?, ?it/s]"
      ]
     },
     "metadata": {},
     "output_type": "display_data"
    },
    {
     "name": "stdout",
     "output_type": "stream",
     "text": [
      "Epoch train loss: 2.564117431640625\n",
      "Epoch accuracy: 0.17962948638613863\n",
      "------------------Validating--------------------\n",
      "Validation loss: 2.6561965942382812\n",
      "Validation accuracy: 0.10434715346534654\n",
      "Epoch 15/100\n"
     ]
    },
    {
     "data": {
      "application/vnd.jupyter.widget-view+json": {
       "model_id": "a8040e86250245b5aff05184fe460053",
       "version_major": 2,
       "version_minor": 0
      },
      "text/plain": [
       "  0%|          | 0/1616 [00:00<?, ?it/s]"
      ]
     },
     "metadata": {},
     "output_type": "display_data"
    },
    {
     "name": "stdout",
     "output_type": "stream",
     "text": [
      "Epoch train loss: 2.5551705360412598\n",
      "Epoch accuracy: 0.1895304764851485\n",
      "------------------Validating--------------------\n",
      "Validation loss: 2.6629180908203125\n",
      "Validation accuracy: 0.10403774752475248\n",
      "Epoch 16/100\n"
     ]
    },
    {
     "data": {
      "application/vnd.jupyter.widget-view+json": {
       "model_id": "f325435adf474ca48dcee38900334550",
       "version_major": 2,
       "version_minor": 0
      },
      "text/plain": [
       "  0%|          | 0/1616 [00:00<?, ?it/s]"
      ]
     },
     "metadata": {},
     "output_type": "display_data"
    },
    {
     "name": "stdout",
     "output_type": "stream",
     "text": [
      "Epoch train loss: 2.546912670135498\n",
      "Epoch accuracy: 0.1995474938118812\n",
      "------------------Validating--------------------\n",
      "Validation loss: 2.6733856201171875\n",
      "Validation accuracy: 0.10233601485148515\n",
      "Epoch 17/100\n"
     ]
    },
    {
     "data": {
      "application/vnd.jupyter.widget-view+json": {
       "model_id": "409dd81bc39d4aa7b36835adce0b1919",
       "version_major": 2,
       "version_minor": 0
      },
      "text/plain": [
       "  0%|          | 0/1616 [00:00<?, ?it/s]"
      ]
     },
     "metadata": {},
     "output_type": "display_data"
    },
    {
     "name": "stdout",
     "output_type": "stream",
     "text": [
      "Epoch train loss: 2.5360448360443115\n",
      "Epoch accuracy: 0.20672184405940594\n",
      "------------------Validating--------------------\n",
      "Validation loss: 2.6827163696289062\n",
      "Validation accuracy: 0.10326423267326733\n",
      "Epoch 18/100\n"
     ]
    },
    {
     "data": {
      "application/vnd.jupyter.widget-view+json": {
       "model_id": "b2b55db3e8904ba19d274bf1268c692d",
       "version_major": 2,
       "version_minor": 0
      },
      "text/plain": [
       "  0%|          | 0/1616 [00:00<?, ?it/s]"
      ]
     },
     "metadata": {},
     "output_type": "display_data"
    },
    {
     "name": "stdout",
     "output_type": "stream",
     "text": [
      "Epoch train loss: 2.5253400802612305\n",
      "Epoch accuracy: 0.216796875\n",
      "------------------Validating--------------------\n",
      "Validation loss: 2.6976003646850586\n",
      "Validation accuracy: 0.10225866336633663\n",
      "Epoch 19/100\n"
     ]
    },
    {
     "data": {
      "application/vnd.jupyter.widget-view+json": {
       "model_id": "44ab60b0a98c48b7bb33e30c08654af5",
       "version_major": 2,
       "version_minor": 0
      },
      "text/plain": [
       "  0%|          | 0/1616 [00:00<?, ?it/s]"
      ]
     },
     "metadata": {},
     "output_type": "display_data"
    },
    {
     "name": "stdout",
     "output_type": "stream",
     "text": [
      "Epoch train loss: 2.5093469619750977\n",
      "Epoch accuracy: 0.2279741646039604\n",
      "------------------Validating--------------------\n",
      "Validation loss: 2.695223093032837\n",
      "Validation accuracy: 0.10241336633663366\n",
      "Epoch 20/100\n"
     ]
    },
    {
     "data": {
      "application/vnd.jupyter.widget-view+json": {
       "model_id": "5db51ac21fa64f83b633b1c24424dc7b",
       "version_major": 2,
       "version_minor": 0
      },
      "text/plain": [
       "  0%|          | 0/1616 [00:00<?, ?it/s]"
      ]
     },
     "metadata": {},
     "output_type": "display_data"
    },
    {
     "name": "stdout",
     "output_type": "stream",
     "text": [
      "Epoch train loss: 2.499619245529175\n",
      "Epoch accuracy: 0.2347810952970297\n",
      "------------------Validating--------------------\n",
      "Validation loss: 2.7055108547210693\n",
      "Validation accuracy: 0.10566212871287128\n",
      "Epoch 21/100\n"
     ]
    },
    {
     "data": {
      "application/vnd.jupyter.widget-view+json": {
       "model_id": "2fa699f6e55b40f9a2e10e510dd3351e",
       "version_major": 2,
       "version_minor": 0
      },
      "text/plain": [
       "  0%|          | 0/1616 [00:00<?, ?it/s]"
      ]
     },
     "metadata": {},
     "output_type": "display_data"
    },
    {
     "name": "stdout",
     "output_type": "stream",
     "text": [
      "Epoch train loss: 2.4816818237304688\n",
      "Epoch accuracy: 0.24648050742574257\n",
      "------------------Validating--------------------\n",
      "Validation loss: 2.73020339012146\n",
      "Validation accuracy: 0.10303217821782178\n",
      "Epoch 22/100\n"
     ]
    },
    {
     "data": {
      "application/vnd.jupyter.widget-view+json": {
       "model_id": "e15705a7ba944a818a57fd581e2aa167",
       "version_major": 2,
       "version_minor": 0
      },
      "text/plain": [
       "  0%|          | 0/1616 [00:00<?, ?it/s]"
      ]
     },
     "metadata": {},
     "output_type": "display_data"
    },
    {
     "name": "stdout",
     "output_type": "stream",
     "text": [
      "Epoch train loss: 2.4668045043945312\n",
      "Epoch accuracy: 0.2559173886138614\n",
      "------------------Validating--------------------\n",
      "Validation loss: 2.7390081882476807\n",
      "Validation accuracy: 0.10078898514851485\n",
      "Epoch 23/100\n"
     ]
    },
    {
     "data": {
      "application/vnd.jupyter.widget-view+json": {
       "model_id": "bd05f4f4d3174954acbe225d3eea8539",
       "version_major": 2,
       "version_minor": 0
      },
      "text/plain": [
       "  0%|          | 0/1616 [00:00<?, ?it/s]"
      ]
     },
     "metadata": {},
     "output_type": "display_data"
    },
    {
     "name": "stdout",
     "output_type": "stream",
     "text": [
      "Epoch train loss: 2.4553518295288086\n",
      "Epoch accuracy: 0.2634011448019802\n",
      "------------------Validating--------------------\n",
      "Validation loss: 2.7611844539642334\n",
      "Validation accuracy: 0.10457920792079207\n",
      "Epoch 24/100\n"
     ]
    },
    {
     "data": {
      "application/vnd.jupyter.widget-view+json": {
       "model_id": "296afefb93084c4ab0f20ef9e76ff64d",
       "version_major": 2,
       "version_minor": 0
      },
      "text/plain": [
       "  0%|          | 0/1616 [00:00<?, ?it/s]"
      ]
     },
     "metadata": {},
     "output_type": "display_data"
    },
    {
     "name": "stdout",
     "output_type": "stream",
     "text": [
      "Epoch train loss: 2.432293176651001\n",
      "Epoch accuracy: 0.2766862623762376\n",
      "------------------Validating--------------------\n",
      "Validation loss: 2.765361785888672\n",
      "Validation accuracy: 0.10527537128712872\n",
      "Epoch 25/100\n"
     ]
    },
    {
     "data": {
      "application/vnd.jupyter.widget-view+json": {
       "model_id": "e78896ea6618420490a4ad13ece217dd",
       "version_major": 2,
       "version_minor": 0
      },
      "text/plain": [
       "  0%|          | 0/1616 [00:00<?, ?it/s]"
      ]
     },
     "metadata": {},
     "output_type": "display_data"
    },
    {
     "name": "stderr",
     "output_type": "stream",
     "text": [
      "Exception ignored in: <function _releaseLock at 0x7ff371047250>\n",
      "Traceback (most recent call last):\n",
      "  File \"/home/student/andrew/anaconda3/lib/python3.10/logging/__init__.py\", line 228, in _releaseLock\n",
      "    def _releaseLock():\n",
      "KeyboardInterrupt: \n"
     ]
    },
    {
     "name": "stdout",
     "output_type": "stream",
     "text": [
      "Epoch train loss: 2.416851758956909\n",
      "Epoch accuracy: 0.2856783725247525\n",
      "------------------Validating--------------------\n",
      "Validation loss: 2.7850804328918457\n",
      "Validation accuracy: 0.10140779702970297\n",
      "Epoch 26/100\n"
     ]
    },
    {
     "data": {
      "application/vnd.jupyter.widget-view+json": {
       "model_id": "f2139a47918343aeb1ba9a11eafefc01",
       "version_major": 2,
       "version_minor": 0
      },
      "text/plain": [
       "  0%|          | 0/1616 [00:00<?, ?it/s]"
      ]
     },
     "metadata": {},
     "output_type": "display_data"
    },
    {
     "ename": "KeyboardInterrupt",
     "evalue": "",
     "output_type": "error",
     "traceback": [
      "\u001b[0;31m---------------------------------------------------------------------------\u001b[0m",
      "\u001b[0;31mKeyboardInterrupt\u001b[0m                         Traceback (most recent call last)",
      "Cell \u001b[0;32mIn[83], line 39\u001b[0m\n\u001b[1;32m     37\u001b[0m expected_prediction \u001b[39m=\u001b[39m []\n\u001b[1;32m     38\u001b[0m \u001b[39mfor\u001b[39;00m i \u001b[39min\u001b[39;00m labels:\n\u001b[0;32m---> 39\u001b[0m     expected_prediction\u001b[39m.\u001b[39mappend(((i \u001b[39m==\u001b[39;49m \u001b[39m1\u001b[39;49m)\u001b[39m.\u001b[39;49mnonzero(as_tuple\u001b[39m=\u001b[39;49m\u001b[39mTrue\u001b[39;49;00m)[\u001b[39m0\u001b[39m]))\n\u001b[1;32m     41\u001b[0m expected_prediction \u001b[39m=\u001b[39m torch\u001b[39m.\u001b[39mTensor(expected_prediction)\u001b[39m.\u001b[39mtype(torch\u001b[39m.\u001b[39mint16)\u001b[39m.\u001b[39mto(device)\n\u001b[1;32m     42\u001b[0m _, prediction \u001b[39m=\u001b[39m torch\u001b[39m.\u001b[39mmax(outputs\u001b[39m.\u001b[39mdata, \u001b[39m1\u001b[39m)\n",
      "\u001b[0;31mKeyboardInterrupt\u001b[0m: "
     ]
    }
   ],
   "source": [
    "device = 'cuda' if torch.cuda.is_available() else 'cpu'\n",
    "print(device)\n",
    "\n",
    "model = Classifier().to(device=device)\n",
    "\n",
    "optimizer = Adam(model.parameters(), lr=0.001)                                           \n",
    "loss_function = nn.CrossEntropyLoss()\n",
    "\n",
    "n_epochs = 100\n",
    "\n",
    "validation_data = []\n",
    "training_data = []\n",
    "\n",
    "for epoch in range(n_epochs):\n",
    "    \n",
    "    print(f'Epoch {epoch+1}/{n_epochs}')\n",
    "    model.train()\n",
    "\n",
    "    train_loss = 0.0\n",
    "    train_accuracy = 0.0\n",
    "\n",
    "    for data, labels in tqdm(train_dataloader):\n",
    "        \n",
    "        data = data.to(device)\n",
    "        labels = labels.to(device)\n",
    "        optimizer.zero_grad()\n",
    "\n",
    "        outputs = model(data)\n",
    "\n",
    "        #Loss\n",
    "        loss = loss_function(outputs, labels)\n",
    "        loss.backward()\n",
    "        optimizer.step()\n",
    "        train_loss += loss.cpu().data*data.size(0)\n",
    "\n",
    "        #Prediction\n",
    "        expected_prediction = []\n",
    "        for i in labels:\n",
    "            expected_prediction.append(((i == 1).nonzero(as_tuple=True)[0]))\n",
    "        \n",
    "        expected_prediction = torch.Tensor(expected_prediction).type(torch.int16).to(device)\n",
    "        _, prediction = torch.max(outputs.data, 1)\n",
    "        train_accuracy+=int(torch.sum(prediction==expected_prediction))        \n",
    "        \n",
    "    \n",
    "    train_loss/=(len(train_dataloader))\n",
    "    train_accuracy/=(len(train_dataloader) * batch_size)\n",
    "    training_data.append(train_loss.item())\n",
    "\n",
    "    print('Epoch train loss:', train_loss.item())\n",
    "    print('Epoch accuracy:', train_accuracy)\n",
    "\n",
    "    print(\"------------------Validating--------------------\")\n",
    "    model.eval()\n",
    "    val_loss = 0.0\n",
    "    val_accuracy = 0.0\n",
    "    for data, labels in test_dataloader:\n",
    "        data = data.to(device)\n",
    "        labels = labels.to(device)\n",
    "        \n",
    "        outputs = model(data)\n",
    "        #Prediction\n",
    "        expected_prediction = []\n",
    "        for i in labels:\n",
    "            expected_prediction.append(((i == 1).nonzero(as_tuple=True)[0]))\n",
    "        expected_prediction = torch.Tensor(expected_prediction).type(torch.int16).to(device)\n",
    "        _, prediction = torch.max(outputs.data, 1)\n",
    "        val_accuracy+=int(torch.sum(prediction==expected_prediction))        \n",
    "        #Loss\n",
    "        val_loss += loss_function(outputs, labels)*data.size(0)\n",
    "\n",
    "    val_loss /= len(test_dataloader)\n",
    "    val_accuracy /= (len(test_dataloader)*batch_size)\n",
    "    validation_data.append(val_loss.item())\n",
    "    print('Validation loss:',val_loss.item())\n",
    "    print('Validation accuracy:',val_accuracy)"
   ]
  },
  {
   "cell_type": "code",
   "execution_count": 84,
   "metadata": {},
   "outputs": [
    {
     "name": "stdout",
     "output_type": "stream",
     "text": [
      "[2.6232945919036865, 2.621497631072998, 2.6213314533233643, 2.6214699745178223, 2.6217236518859863, 2.6243436336517334, 2.628465414047241, 2.6270878314971924, 2.6313986778259277, 2.6341655254364014, 2.637917995452881, 2.642123222351074, 2.64540433883667, 2.6561965942382812, 2.6629180908203125, 2.6733856201171875, 2.6827163696289062, 2.6976003646850586, 2.695223093032837, 2.7055108547210693, 2.73020339012146, 2.7390081882476807, 2.7611844539642334, 2.765361785888672, 2.7850804328918457]\n"
     ]
    },
    {
     "data": {
      "image/png": "[encoded data removed]",
      "text/plain": [
       "<Figure size 640x480 with 1 Axes>"
      ]
     },
     "metadata": {},
     "output_type": "display_data"
    }
   ],
   "source": [
    "print(validation_data)\n",
    "x = [i+1 for i in range(len(validation_data))]\n",
    "\n",
    "plt.plot(x, validation_data, label ='val')\n",
    "plt.plot(x, training_data, '-.', label ='train')\n",
    "\n",
    "plt.xlabel(\"Epoch\")\n",
    "plt.ylabel(\"Loss\")\n",
    "plt.legend()\n",
    "plt.title('Loss v.s Epoch')\n",
    "plt.grid()\n",
    "\n",
    "plt.show()"
   ]
  }
 ],
 "metadata": {
  "kernelspec": {
   "display_name": "base",
   "language": "python",
   "name": "python3"
  },
  "language_info": {
   "codemirror_mode": {
    "name": "ipython",
    "version": 3
   },
   "file_extension": ".py",
   "mimetype": "text/x-python",
   "name": "python",
   "nbconvert_exporter": "python",
   "pygments_lexer": "ipython3",
   "version": "3.10.11"
  },
  "orig_nbformat": 4
 },
 "nbformat": 4,
 "nbformat_minor": 2
}
