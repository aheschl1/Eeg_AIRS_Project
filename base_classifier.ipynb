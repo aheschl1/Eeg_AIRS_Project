{
 "cells": [
  {
   "cell_type": "code",
   "execution_count": 1,
   "metadata": {},
   "outputs": [],
   "source": [
    "import pandas as pd\n",
    "import numpy as np\n",
    "import mne\n",
    "import glob\n",
    "from tqdm import tqdm\n",
    "\n",
    "from EegHelper.EegData import EegDataPoint, EegDataset, files_to_datapoints\n",
    "from EegHelper.DataIO import DataBuilder, split_main_data\n",
    "\n",
    "%matplotlib inline\n",
    "\n",
    "#Following two are so that external files are auto loaded after edit\n",
    "%load_ext autoreload\n",
    "%autoreload 2\n",
    "#mne outputs so much stuff, so just set log level\n",
    "mne.set_log_level('error')"
   ]
  },
  {
   "cell_type": "code",
   "execution_count": null,
   "metadata": {},
   "outputs": [],
   "source": []
  }
 ],
 "metadata": {
  "kernelspec": {
   "display_name": "base",
   "language": "python",
   "name": "python3"
  },
  "language_info": {
   "codemirror_mode": {
    "name": "ipython",
    "version": 3
   },
   "file_extension": ".py",
   "mimetype": "text/x-python",
   "name": "python",
   "nbconvert_exporter": "python",
   "pygments_lexer": "ipython3",
   "version": "3.10.9"
  },
  "orig_nbformat": 4
 },
 "nbformat": 4,
 "nbformat_minor": 2
}
